{
 "cells": [
  {
   "cell_type": "code",
   "execution_count": 1,
   "metadata": {},
   "outputs": [],
   "source": [
    "import pandas as pd \n",
    "import numpy as np\n",
    "import csv"
   ]
  },
  {
   "cell_type": "code",
   "execution_count": 2,
   "metadata": {},
   "outputs": [],
   "source": [
    "barcelona_listings = pd.read_csv(\"barcelona_listings.csv\")\n",
    "barcelona_calendar = pd.read_csv(\"barcelona_calendar.csv\")\n",
    "barcelona_reviews = pd.read_csv(\"barcelona_reviews.csv\")\n",
    "\n",
    "madrid_listings = pd.read_csv(\"madrid_listings_filtered.csv\")\n",
    "#madrid_calendar = pd.read_csv(\"madrid_calendar.csv\")\n",
    "#madrid_reviews = pd.read_csv(\"C:/Users/loris/OneDrive/EPFL/2018-19/databaseSystems/project/database/madrid_reviews.csv\")\n",
    "\n",
    "berlin_listings = pd.read_csv(\"berlin_listings_filtered.csv\")\n",
    "#berlin_calendar = pd.read_csv(\"berlin_calendar.csv\")\n",
    "#berlin_reviews = pd.read_csv(\"C:/Users/loris/OneDrive/EPFL/2018-19/databaseSystems/project/database/berlin_reviews.csv\")\n",
    "\n",
    "#countries = pd.read_csv(\"C:/Users/loris/OneDrive/EPFL/2018-19/databaseSystems/project/database/Countries.csv\")\n",
    "#cities = pd.read_csv(\"C:/Users/loris/OneDrive/EPFL/2018-19/databaseSystems/project/database/Cities.csv\")\n"
   ]
  },
  {
   "cell_type": "code",
   "execution_count": 3,
   "metadata": {},
   "outputs": [
    {
     "name": "stdout",
     "output_type": "stream",
     "text": [
      "['id', 'listing_url', 'name', 'summary', 'space', 'description', 'neighborhood_overview', 'notes', 'transit', 'access', 'interaction', 'house_rules', 'picture_url', 'host_id', 'host_url', 'host_name', 'host_since', 'host_about', 'host_response_time', 'host_response_rate', 'host_thumbnail_url', 'host_picture_url', 'host_neighbourhood', 'host_verifications', 'neighbourhood', 'city', 'country_code', 'country', 'latitude', 'longitude', 'property_type', 'room_type', 'accommodates', 'bathrooms', 'bedrooms', 'beds', 'bed_type', 'amenities', 'square_feet', 'price', 'weekly_price', 'monthly_price', 'security_deposit', 'cleaning_fee', 'guests_included', 'extra_people', 'minimum_nights', 'maximum_nights', 'review_scores_rating', 'review_scores_accuracy', 'review_scores_cleanliness', 'review_scores_checkin', 'review_scores_communication', 'review_scores_location', 'review_scores_value', 'is_business_travel_ready', 'cancellation_policy', 'require_guest_profile_picture', 'require_guest_phone_verification']\n"
     ]
    }
   ],
   "source": [
    "#barcelona_listings['date_review']\n",
    "print(list(barcelona_listings.columns.values))"
   ]
  },
  {
   "cell_type": "code",
   "execution_count": 4,
   "metadata": {},
   "outputs": [
    {
     "name": "stdout",
     "output_type": "stream",
     "text": [
      "['listing_id', 'id', 'date', 'reviewer_id', 'reviewer_name', 'comments']\n"
     ]
    }
   ],
   "source": [
    "print(list(barcelona_reviews.columns.values))"
   ]
  },
  {
   "cell_type": "code",
   "execution_count": 5,
   "metadata": {},
   "outputs": [
    {
     "name": "stdout",
     "output_type": "stream",
     "text": [
      "12497\n"
     ]
    }
   ],
   "source": [
    "print(len(madrid_listings))"
   ]
  },
  {
   "cell_type": "code",
   "execution_count": 6,
   "metadata": {},
   "outputs": [
    {
     "data": {
      "text/plain": [
       "0                Apartment\n",
       "1              Condominium\n",
       "2                Apartment\n",
       "3                Apartment\n",
       "4                Apartment\n",
       "5                Apartment\n",
       "6                Apartment\n",
       "7                Apartment\n",
       "8                Apartment\n",
       "9                Apartment\n",
       "10               Apartment\n",
       "11               Apartment\n",
       "12                    Loft\n",
       "13               Apartment\n",
       "14               Apartment\n",
       "15               Apartment\n",
       "16               Apartment\n",
       "17               Apartment\n",
       "18               Apartment\n",
       "19               Apartment\n",
       "20               Apartment\n",
       "21               Apartment\n",
       "22               Apartment\n",
       "23               Apartment\n",
       "24               Apartment\n",
       "25                    Loft\n",
       "26               Apartment\n",
       "27               Apartment\n",
       "28               Apartment\n",
       "29               Apartment\n",
       "               ...        \n",
       "16472            Apartment\n",
       "16473            Apartment\n",
       "16474            Apartment\n",
       "16475          Condominium\n",
       "16476            Apartment\n",
       "16477            Apartment\n",
       "16478            Apartment\n",
       "16479            Apartment\n",
       "16480            Apartment\n",
       "16481            Apartment\n",
       "16482            Apartment\n",
       "16483    Bed and breakfast\n",
       "16484            Apartment\n",
       "16485            Apartment\n",
       "16486            Apartment\n",
       "16487            Apartment\n",
       "16488            Apartment\n",
       "16489            Apartment\n",
       "16490            Apartment\n",
       "16491            Apartment\n",
       "16492                 Loft\n",
       "16493            Apartment\n",
       "16494            Apartment\n",
       "16495            Apartment\n",
       "16496            Apartment\n",
       "16497            Apartment\n",
       "16498            Apartment\n",
       "16499            Apartment\n",
       "16500            Apartment\n",
       "16501            Apartment\n",
       "Name: property_type, Length: 16502, dtype: object"
      ]
     },
     "execution_count": 6,
     "metadata": {},
     "output_type": "execute_result"
    }
   ],
   "source": [
    "berlin_listings['property_type']"
   ]
  },
  {
   "cell_type": "code",
   "execution_count": null,
   "metadata": {},
   "outputs": [],
   "source": []
  }
 ],
 "metadata": {
  "kernelspec": {
   "display_name": "Python 3",
   "language": "python",
   "name": "python3"
  },
  "language_info": {
   "codemirror_mode": {
    "name": "ipython",
    "version": 3
   },
   "file_extension": ".py",
   "mimetype": "text/x-python",
   "name": "python",
   "nbconvert_exporter": "python",
   "pygments_lexer": "ipython3",
   "version": "3.6.5"
  }
 },
 "nbformat": 4,
 "nbformat_minor": 2
}
