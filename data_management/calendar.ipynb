{
 "cells": [
  {
   "cell_type": "code",
   "execution_count": 1,
   "metadata": {},
   "outputs": [],
   "source": [
    "import pandas as pd \n",
    "import numpy as np\n",
    "import csv"
   ]
  },
  {
   "cell_type": "code",
   "execution_count": 2,
   "metadata": {},
   "outputs": [],
   "source": [
    "#barcelona_listings = pd.read_csv(\"C:/Users/loris/OneDrive/EPFL/2018-19/databaseSystems/project/database/barcelona_listings.csv\")\n",
    "barcelona_calendar = pd.read_csv(\"barcelona_calendar.csv\")\n",
    "#barcelona_reviews = pd.read_csv(\"C:/Users/loris/OneDrive/EPFL/2018-19/databaseSystems/project/database/barcelona_reviews.csv\")\n",
    "\n",
    "#madrid_listings = pd.read_csv(\"C:/Users/loris/OneDrive/EPFL/2018-19/databaseSystems/project/database/madrid_listings_filtered.csv\")\n",
    "madrid_calendar = pd.read_csv(\"madrid_calendar.csv\")\n",
    "#madrid_reviews = pd.read_csv(\"C:/Users/loris/OneDrive/EPFL/2018-19/databaseSystems/project/database/madrid_reviews.csv\")\n",
    "\n",
    "#berlin_listings = pd.read_csv(\"C:/Users/loris/OneDrive/EPFL/2018-19/databaseSystems/project/database/berlin_listings_filtered.csv\")\n",
    "berlin_calendar = pd.read_csv(\"berlin_calendar.csv\")\n",
    "#berlin_reviews = pd.read_csv(\"C:/Users/loris/OneDrive/EPFL/2018-19/databaseSystems/project/database/berlin_reviews.csv\")\n",
    "\n",
    "#countries = pd.read_csv(\"C:/Users/loris/OneDrive/EPFL/2018-19/databaseSystems/project/database/Countries.csv\")\n",
    "#cities = pd.read_csv(\"C:/Users/loris/OneDrive/EPFL/2018-19/databaseSystems/project/database/Cities.csv\")\n"
   ]
  },
  {
   "cell_type": "code",
   "execution_count": 3,
   "metadata": {},
   "outputs": [
    {
     "name": "stdout",
     "output_type": "stream",
     "text": [
      "listing_id    15364310\n",
      "date          15364310\n",
      "available     15364310\n",
      "price          6093473\n",
      "dtype: int64\n"
     ]
    },
    {
     "data": {
      "text/html": [
       "<div>\n",
       "<style scoped>\n",
       "    .dataframe tbody tr th:only-of-type {\n",
       "        vertical-align: middle;\n",
       "    }\n",
       "\n",
       "    .dataframe tbody tr th {\n",
       "        vertical-align: top;\n",
       "    }\n",
       "\n",
       "    .dataframe thead th {\n",
       "        text-align: right;\n",
       "    }\n",
       "</style>\n",
       "<table border=\"1\" class=\"dataframe\">\n",
       "  <thead>\n",
       "    <tr style=\"text-align: right;\">\n",
       "      <th></th>\n",
       "      <th>listing_id</th>\n",
       "      <th>date</th>\n",
       "      <th>available</th>\n",
       "      <th>price</th>\n",
       "    </tr>\n",
       "  </thead>\n",
       "  <tbody>\n",
       "    <tr>\n",
       "      <th>0</th>\n",
       "      <td>74562</td>\n",
       "      <td>2019-11-06</td>\n",
       "      <td>t</td>\n",
       "      <td>$60.00</td>\n",
       "    </tr>\n",
       "    <tr>\n",
       "      <th>1</th>\n",
       "      <td>74562</td>\n",
       "      <td>2019-11-05</td>\n",
       "      <td>t</td>\n",
       "      <td>$60.00</td>\n",
       "    </tr>\n",
       "    <tr>\n",
       "      <th>2</th>\n",
       "      <td>74562</td>\n",
       "      <td>2019-11-04</td>\n",
       "      <td>t</td>\n",
       "      <td>$60.00</td>\n",
       "    </tr>\n",
       "    <tr>\n",
       "      <th>3</th>\n",
       "      <td>74562</td>\n",
       "      <td>2019-11-03</td>\n",
       "      <td>t</td>\n",
       "      <td>$60.00</td>\n",
       "    </tr>\n",
       "    <tr>\n",
       "      <th>4</th>\n",
       "      <td>74562</td>\n",
       "      <td>2019-11-02</td>\n",
       "      <td>t</td>\n",
       "      <td>$65.00</td>\n",
       "    </tr>\n",
       "  </tbody>\n",
       "</table>\n",
       "</div>"
      ],
      "text/plain": [
       "   listing_id        date available   price\n",
       "0       74562  2019-11-06         t  $60.00\n",
       "1       74562  2019-11-05         t  $60.00\n",
       "2       74562  2019-11-04         t  $60.00\n",
       "3       74562  2019-11-03         t  $60.00\n",
       "4       74562  2019-11-02         t  $65.00"
      ]
     },
     "execution_count": 3,
     "metadata": {},
     "output_type": "execute_result"
    }
   ],
   "source": [
    "tab_calendar = pd.concat([barcelona_calendar, madrid_calendar,berlin_calendar])\n",
    "print(tab_calendar.count())\n",
    "tab_calendar.head()"
   ]
  },
  {
   "cell_type": "code",
   "execution_count": 4,
   "metadata": {},
   "outputs": [
    {
     "data": {
      "text/plain": [
       "listing_id     int64\n",
       "date          object\n",
       "available     object\n",
       "price         object\n",
       "dtype: object"
      ]
     },
     "execution_count": 4,
     "metadata": {},
     "output_type": "execute_result"
    }
   ],
   "source": [
    "tab_calendar.dtypes"
   ]
  },
  {
   "cell_type": "code",
   "execution_count": 5,
   "metadata": {},
   "outputs": [
    {
     "name": "stdout",
     "output_type": "stream",
     "text": [
      "<class 'str'>\n"
     ]
    }
   ],
   "source": [
    "##change price type\n",
    "print(type(tab_calendar['price'].iloc[0]))\n",
    "price = tab_calendar['price']"
   ]
  },
  {
   "cell_type": "code",
   "execution_count": 6,
   "metadata": {},
   "outputs": [
    {
     "data": {
      "text/plain": [
       "0    $60.00\n",
       "1    $60.00\n",
       "2    $60.00\n",
       "3    $60.00\n",
       "4    $65.00\n",
       "Name: price, dtype: object"
      ]
     },
     "execution_count": 6,
     "metadata": {},
     "output_type": "execute_result"
    }
   ],
   "source": [
    "price.head()"
   ]
  },
  {
   "cell_type": "code",
   "execution_count": 7,
   "metadata": {},
   "outputs": [
    {
     "data": {
      "text/plain": [
       "0    60.0\n",
       "1    60.0\n",
       "2    60.0\n",
       "3    60.0\n",
       "4    65.0\n",
       "Name: price, dtype: float64"
      ]
     },
     "execution_count": 7,
     "metadata": {},
     "output_type": "execute_result"
    }
   ],
   "source": [
    "price = price.apply(lambda x: float(str(x).replace('$', '').replace(',', '')))\n",
    "price.head()"
   ]
  },
  {
   "cell_type": "code",
   "execution_count": 8,
   "metadata": {},
   "outputs": [
    {
     "name": "stdout",
     "output_type": "stream",
     "text": [
      "<class 'numpy.float64'>\n",
      "11420.0\n"
     ]
    }
   ],
   "source": [
    "print(type(price.iloc[0]))\n",
    "print(price.max())"
   ]
  },
  {
   "cell_type": "code",
   "execution_count": 9,
   "metadata": {},
   "outputs": [
    {
     "name": "stdout",
     "output_type": "stream",
     "text": [
      "<class 'numpy.float64'>\n"
     ]
    }
   ],
   "source": [
    "tab_calendar['price'] = price\n",
    "print(type(tab_calendar['price'].iloc[0]))"
   ]
  },
  {
   "cell_type": "code",
   "execution_count": 10,
   "metadata": {},
   "outputs": [
    {
     "name": "stdout",
     "output_type": "stream",
     "text": [
      "listing_id    15364310\n",
      "date          15364310\n",
      "available     15364310\n",
      "price          6093473\n",
      "dtype: int64\n"
     ]
    },
    {
     "data": {
      "text/html": [
       "<div>\n",
       "<style scoped>\n",
       "    .dataframe tbody tr th:only-of-type {\n",
       "        vertical-align: middle;\n",
       "    }\n",
       "\n",
       "    .dataframe tbody tr th {\n",
       "        vertical-align: top;\n",
       "    }\n",
       "\n",
       "    .dataframe thead th {\n",
       "        text-align: right;\n",
       "    }\n",
       "</style>\n",
       "<table border=\"1\" class=\"dataframe\">\n",
       "  <thead>\n",
       "    <tr style=\"text-align: right;\">\n",
       "      <th></th>\n",
       "      <th>listing_id</th>\n",
       "      <th>date</th>\n",
       "      <th>available</th>\n",
       "      <th>price</th>\n",
       "    </tr>\n",
       "  </thead>\n",
       "  <tbody>\n",
       "    <tr>\n",
       "      <th>0</th>\n",
       "      <td>2015</td>\n",
       "      <td>2019-09-10</td>\n",
       "      <td>f</td>\n",
       "      <td>NaN</td>\n",
       "    </tr>\n",
       "    <tr>\n",
       "      <th>249</th>\n",
       "      <td>2015</td>\n",
       "      <td>2019-01-04</td>\n",
       "      <td>t</td>\n",
       "      <td>76.0</td>\n",
       "    </tr>\n",
       "    <tr>\n",
       "      <th>248</th>\n",
       "      <td>2015</td>\n",
       "      <td>2019-01-05</td>\n",
       "      <td>t</td>\n",
       "      <td>76.0</td>\n",
       "    </tr>\n",
       "    <tr>\n",
       "      <th>247</th>\n",
       "      <td>2015</td>\n",
       "      <td>2019-01-06</td>\n",
       "      <td>t</td>\n",
       "      <td>76.0</td>\n",
       "    </tr>\n",
       "    <tr>\n",
       "      <th>246</th>\n",
       "      <td>2015</td>\n",
       "      <td>2019-01-07</td>\n",
       "      <td>t</td>\n",
       "      <td>76.0</td>\n",
       "    </tr>\n",
       "  </tbody>\n",
       "</table>\n",
       "</div>"
      ],
      "text/plain": [
       "     listing_id        date available  price\n",
       "0          2015  2019-09-10         f    NaN\n",
       "249        2015  2019-01-04         t   76.0\n",
       "248        2015  2019-01-05         t   76.0\n",
       "247        2015  2019-01-06         t   76.0\n",
       "246        2015  2019-01-07         t   76.0"
      ]
     },
     "execution_count": 10,
     "metadata": {},
     "output_type": "execute_result"
    }
   ],
   "source": [
    "tab_calendar = tab_calendar.sort_values(by=['listing_id'])\n",
    "print(tab_calendar.count())\n",
    "tab_calendar.head()"
   ]
  },
  {
   "cell_type": "code",
   "execution_count": 11,
   "metadata": {},
   "outputs": [
    {
     "data": {
      "text/html": [
       "<div>\n",
       "<style scoped>\n",
       "    .dataframe tbody tr th:only-of-type {\n",
       "        vertical-align: middle;\n",
       "    }\n",
       "\n",
       "    .dataframe tbody tr th {\n",
       "        vertical-align: top;\n",
       "    }\n",
       "\n",
       "    .dataframe thead th {\n",
       "        text-align: right;\n",
       "    }\n",
       "</style>\n",
       "<table border=\"1\" class=\"dataframe\">\n",
       "  <thead>\n",
       "    <tr style=\"text-align: right;\">\n",
       "      <th></th>\n",
       "      <th>DATE_CALENDAR</th>\n",
       "      <th>AVAILABLE</th>\n",
       "      <th>PRICE</th>\n",
       "      <th>LISTING_ID</th>\n",
       "    </tr>\n",
       "  </thead>\n",
       "  <tbody>\n",
       "    <tr>\n",
       "      <th>0</th>\n",
       "      <td>2019-09-10</td>\n",
       "      <td>f</td>\n",
       "      <td>NaN</td>\n",
       "      <td>2015</td>\n",
       "    </tr>\n",
       "    <tr>\n",
       "      <th>249</th>\n",
       "      <td>2019-01-04</td>\n",
       "      <td>t</td>\n",
       "      <td>76.0</td>\n",
       "      <td>2015</td>\n",
       "    </tr>\n",
       "    <tr>\n",
       "      <th>248</th>\n",
       "      <td>2019-01-05</td>\n",
       "      <td>t</td>\n",
       "      <td>76.0</td>\n",
       "      <td>2015</td>\n",
       "    </tr>\n",
       "    <tr>\n",
       "      <th>247</th>\n",
       "      <td>2019-01-06</td>\n",
       "      <td>t</td>\n",
       "      <td>76.0</td>\n",
       "      <td>2015</td>\n",
       "    </tr>\n",
       "    <tr>\n",
       "      <th>246</th>\n",
       "      <td>2019-01-07</td>\n",
       "      <td>t</td>\n",
       "      <td>76.0</td>\n",
       "      <td>2015</td>\n",
       "    </tr>\n",
       "  </tbody>\n",
       "</table>\n",
       "</div>"
      ],
      "text/plain": [
       "    DATE_CALENDAR AVAILABLE  PRICE  LISTING_ID\n",
       "0      2019-09-10         f    NaN        2015\n",
       "249    2019-01-04         t   76.0        2015\n",
       "248    2019-01-05         t   76.0        2015\n",
       "247    2019-01-06         t   76.0        2015\n",
       "246    2019-01-07         t   76.0        2015"
      ]
     },
     "execution_count": 11,
     "metadata": {},
     "output_type": "execute_result"
    }
   ],
   "source": [
    "tab_calendar = tab_calendar.rename(index=str, columns={\"listing_id\": \"LISTING_ID\", \"date\": \"DATE_CALENDAR\", \"available\": \"AVAILABLE\", \"price\": \"PRICE\"})\n",
    "tab_calendar = tab_calendar[['DATE_CALENDAR', 'AVAILABLE', 'PRICE', 'LISTING_ID']]\n",
    "tab_calendar.head()"
   ]
  },
  {
   "cell_type": "code",
   "execution_count": 12,
   "metadata": {},
   "outputs": [],
   "source": [
    "tab_calendar.to_csv(r'calendar.csv', index = False, encoding='utf-8')"
   ]
  },
  {
   "cell_type": "code",
   "execution_count": null,
   "metadata": {},
   "outputs": [],
   "source": []
  }
 ],
 "metadata": {
  "kernelspec": {
   "display_name": "Python 3",
   "language": "python",
   "name": "python3"
  },
  "language_info": {
   "codemirror_mode": {
    "name": "ipython",
    "version": 3
   },
   "file_extension": ".py",
   "mimetype": "text/x-python",
   "name": "python",
   "nbconvert_exporter": "python",
   "pygments_lexer": "ipython3",
   "version": "3.6.5"
  }
 },
 "nbformat": 4,
 "nbformat_minor": 2
}
