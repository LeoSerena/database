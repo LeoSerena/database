{
 "cells": [
  {
   "cell_type": "code",
   "execution_count": 1,
   "metadata": {},
   "outputs": [],
   "source": [
    "import pandas as pd \n",
    "import numpy as np\n",
    "import csv"
   ]
  },
  {
   "cell_type": "code",
   "execution_count": 2,
   "metadata": {},
   "outputs": [],
   "source": [
    "#barcelona_listings = pd.read_csv(\"barcelona_listings.csv\")\n",
    "#barcelona_calendar = pd.read_csv(\"barcelona_calendar.csv\")\n",
    "barcelona_reviews = pd.read_csv(\"barcelona_reviews.csv\")\n",
    "\n",
    "#madrid_listings = pd.read_csv(\"madrid_listings_filtered.csv\")\n",
    "#madrid_calendar = pd.read_csv(\"madrid_calendar.csv\")\n",
    "madrid_reviews = pd.read_csv(\"madrid_reviews.csv\")\n",
    "\n",
    "#berlin_listings = pd.read_csv(\"berlin_listings_filtered.csv\")\n",
    "#berlin_calendar = pd.read_csv(\"berlin_calendar.csv\")\n",
    "berlin_reviews = pd.read_csv(\"berlin_reviews.csv\")\n",
    "\n",
    "#countries = pd.read_csv(\"C:/Users/loris/OneDrive/EPFL/2018-19/databaseSystems/project/database/Countries.csv\")\n",
    "#cities = pd.read_csv(\"C:/Users/loris/OneDrive/EPFL/2018-19/databaseSystems/project/database/Cities.csv\")\n"
   ]
  },
  {
   "cell_type": "code",
   "execution_count": 3,
   "metadata": {},
   "outputs": [
    {
     "data": {
      "text/html": [
       "<div>\n",
       "<style scoped>\n",
       "    .dataframe tbody tr th:only-of-type {\n",
       "        vertical-align: middle;\n",
       "    }\n",
       "\n",
       "    .dataframe tbody tr th {\n",
       "        vertical-align: top;\n",
       "    }\n",
       "\n",
       "    .dataframe thead th {\n",
       "        text-align: right;\n",
       "    }\n",
       "</style>\n",
       "<table border=\"1\" class=\"dataframe\">\n",
       "  <thead>\n",
       "    <tr style=\"text-align: right;\">\n",
       "      <th></th>\n",
       "      <th>listing_id</th>\n",
       "      <th>id</th>\n",
       "      <th>date</th>\n",
       "      <th>reviewer_id</th>\n",
       "      <th>reviewer_name</th>\n",
       "      <th>comments</th>\n",
       "    </tr>\n",
       "  </thead>\n",
       "  <tbody>\n",
       "    <tr>\n",
       "      <th>0</th>\n",
       "      <td>18666</td>\n",
       "      <td>50158511</td>\n",
       "      <td>2015-10-10</td>\n",
       "      <td>1559265</td>\n",
       "      <td>Jody</td>\n",
       "      <td>Very nice flat. We had easy transportation to ...</td>\n",
       "    </tr>\n",
       "    <tr>\n",
       "      <th>1</th>\n",
       "      <td>18674</td>\n",
       "      <td>4808211</td>\n",
       "      <td>2013-05-27</td>\n",
       "      <td>4841196</td>\n",
       "      <td>Caron</td>\n",
       "      <td>Great location. Clean, spacious flat. Would re...</td>\n",
       "    </tr>\n",
       "    <tr>\n",
       "      <th>2</th>\n",
       "      <td>18674</td>\n",
       "      <td>10660311</td>\n",
       "      <td>2014-03-02</td>\n",
       "      <td>11600277</td>\n",
       "      <td>Juan Carlos</td>\n",
       "      <td>Mi mejor recomendación para este departamento....</td>\n",
       "    </tr>\n",
       "    <tr>\n",
       "      <th>3</th>\n",
       "      <td>18674</td>\n",
       "      <td>41087522</td>\n",
       "      <td>2015-08-04</td>\n",
       "      <td>35231385</td>\n",
       "      <td>Shlomi</td>\n",
       "      <td>Big apartment, well equipped.\\nVery good servi...</td>\n",
       "    </tr>\n",
       "    <tr>\n",
       "      <th>4</th>\n",
       "      <td>18674</td>\n",
       "      <td>81000756</td>\n",
       "      <td>2016-06-20</td>\n",
       "      <td>23223644</td>\n",
       "      <td>Joost</td>\n",
       "      <td>The Check in was fast and flexible. The price ...</td>\n",
       "    </tr>\n",
       "  </tbody>\n",
       "</table>\n",
       "</div>"
      ],
      "text/plain": [
       "   listing_id        id        date  reviewer_id reviewer_name  \\\n",
       "0       18666  50158511  2015-10-10      1559265          Jody   \n",
       "1       18674   4808211  2013-05-27      4841196         Caron   \n",
       "2       18674  10660311  2014-03-02     11600277   Juan Carlos   \n",
       "3       18674  41087522  2015-08-04     35231385        Shlomi   \n",
       "4       18674  81000756  2016-06-20     23223644         Joost   \n",
       "\n",
       "                                            comments  \n",
       "0  Very nice flat. We had easy transportation to ...  \n",
       "1  Great location. Clean, spacious flat. Would re...  \n",
       "2  Mi mejor recomendación para este departamento....  \n",
       "3  Big apartment, well equipped.\\nVery good servi...  \n",
       "4  The Check in was fast and flexible. The price ...  "
      ]
     },
     "execution_count": 3,
     "metadata": {},
     "output_type": "execute_result"
    }
   ],
   "source": [
    "tab_reviews = pd.concat([barcelona_reviews, madrid_reviews,berlin_reviews])\n",
    "tab_reviews.head()"
   ]
  },
  {
   "cell_type": "code",
   "execution_count": 4,
   "metadata": {},
   "outputs": [
    {
     "data": {
      "text/html": [
       "<div>\n",
       "<style scoped>\n",
       "    .dataframe tbody tr th:only-of-type {\n",
       "        vertical-align: middle;\n",
       "    }\n",
       "\n",
       "    .dataframe tbody tr th {\n",
       "        vertical-align: top;\n",
       "    }\n",
       "\n",
       "    .dataframe thead th {\n",
       "        text-align: right;\n",
       "    }\n",
       "</style>\n",
       "<table border=\"1\" class=\"dataframe\">\n",
       "  <thead>\n",
       "    <tr style=\"text-align: right;\">\n",
       "      <th></th>\n",
       "      <th>REVIEW_ID</th>\n",
       "      <th>LISTING_ID</th>\n",
       "      <th>DATE_REVIEW</th>\n",
       "      <th>REVIEWER_ID</th>\n",
       "      <th>REVIEWER_NAME</th>\n",
       "      <th>REVIEWER_COMMENT</th>\n",
       "    </tr>\n",
       "  </thead>\n",
       "  <tbody>\n",
       "    <tr>\n",
       "      <th>0</th>\n",
       "      <td>50158511</td>\n",
       "      <td>18666</td>\n",
       "      <td>2015-10-10</td>\n",
       "      <td>1559265</td>\n",
       "      <td>Jody</td>\n",
       "      <td>Very nice flat. We had easy transportation to ...</td>\n",
       "    </tr>\n",
       "    <tr>\n",
       "      <th>1</th>\n",
       "      <td>4808211</td>\n",
       "      <td>18674</td>\n",
       "      <td>2013-05-27</td>\n",
       "      <td>4841196</td>\n",
       "      <td>Caron</td>\n",
       "      <td>Great location. Clean spacious flat. Would rec...</td>\n",
       "    </tr>\n",
       "    <tr>\n",
       "      <th>2</th>\n",
       "      <td>10660311</td>\n",
       "      <td>18674</td>\n",
       "      <td>2014-03-02</td>\n",
       "      <td>11600277</td>\n",
       "      <td>Juan Carlos</td>\n",
       "      <td>Mi mejor recomendación para este departamento....</td>\n",
       "    </tr>\n",
       "    <tr>\n",
       "      <th>3</th>\n",
       "      <td>41087522</td>\n",
       "      <td>18674</td>\n",
       "      <td>2015-08-04</td>\n",
       "      <td>35231385</td>\n",
       "      <td>Shlomi</td>\n",
       "      <td>Big apartment well equipped.Very good service ...</td>\n",
       "    </tr>\n",
       "    <tr>\n",
       "      <th>4</th>\n",
       "      <td>81000756</td>\n",
       "      <td>18674</td>\n",
       "      <td>2016-06-20</td>\n",
       "      <td>23223644</td>\n",
       "      <td>Joost</td>\n",
       "      <td>The Check in was fast and flexible. The price ...</td>\n",
       "    </tr>\n",
       "  </tbody>\n",
       "</table>\n",
       "</div>"
      ],
      "text/plain": [
       "   REVIEW_ID  LISTING_ID DATE_REVIEW  REVIEWER_ID REVIEWER_NAME  \\\n",
       "0   50158511       18666  2015-10-10      1559265          Jody   \n",
       "1    4808211       18674  2013-05-27      4841196         Caron   \n",
       "2   10660311       18674  2014-03-02     11600277   Juan Carlos   \n",
       "3   41087522       18674  2015-08-04     35231385        Shlomi   \n",
       "4   81000756       18674  2016-06-20     23223644         Joost   \n",
       "\n",
       "                                    REVIEWER_COMMENT  \n",
       "0  Very nice flat. We had easy transportation to ...  \n",
       "1  Great location. Clean spacious flat. Would rec...  \n",
       "2  Mi mejor recomendación para este departamento....  \n",
       "3  Big apartment well equipped.Very good service ...  \n",
       "4  The Check in was fast and flexible. The price ...  "
      ]
     },
     "execution_count": 4,
     "metadata": {},
     "output_type": "execute_result"
    }
   ],
   "source": [
    "tab_reviews = tab_reviews.rename(index=str, columns={\"listing_id\": \"LISTING_ID\", 'id': 'REVIEW_ID', 'date': 'DATE_REVIEW', 'reviewer_id':'REVIEWER_ID', 'reviewer_name':'REVIEWER_NAME', 'comments': 'REVIEWER_COMMENT'})\n",
    "tab_reviews = tab_reviews[['REVIEW_ID', 'LISTING_ID', 'DATE_REVIEW', 'REVIEWER_ID', 'REVIEWER_NAME', 'REVIEWER_COMMENT']]\n",
    "tab_reviews['REVIEWER_COMMENT'] = tab_reviews['REVIEWER_COMMENT'].str.replace('\\n', '').str.replace(',','')\n",
    "tab_reviews.head()"
   ]
  },
  {
   "cell_type": "code",
   "execution_count": 6,
   "metadata": {},
   "outputs": [
    {
     "ename": "PermissionError",
     "evalue": "[Errno 13] Permission denied: 'reviews.csv'",
     "output_type": "error",
     "traceback": [
      "\u001b[1;31m---------------------------------------------------------------------------\u001b[0m",
      "\u001b[1;31mPermissionError\u001b[0m                           Traceback (most recent call last)",
      "\u001b[1;32m<ipython-input-6-8390f96edf47>\u001b[0m in \u001b[0;36m<module>\u001b[1;34m()\u001b[0m\n\u001b[1;32m----> 1\u001b[1;33m \u001b[0mtab_reviews\u001b[0m\u001b[1;33m.\u001b[0m\u001b[0mto_csv\u001b[0m\u001b[1;33m(\u001b[0m\u001b[1;34m'reviews.csv'\u001b[0m\u001b[1;33m,\u001b[0m \u001b[0mindex\u001b[0m \u001b[1;33m=\u001b[0m \u001b[1;32mFalse\u001b[0m\u001b[1;33m,\u001b[0m \u001b[0mencoding\u001b[0m\u001b[1;33m=\u001b[0m\u001b[1;34m'utf-8'\u001b[0m\u001b[1;33m)\u001b[0m\u001b[1;33m\u001b[0m\u001b[0m\n\u001b[0m",
      "\u001b[1;32m~\\Anaconda3\\lib\\site-packages\\pandas\\core\\frame.py\u001b[0m in \u001b[0;36mto_csv\u001b[1;34m(self, path_or_buf, sep, na_rep, float_format, columns, header, index, index_label, mode, encoding, compression, quoting, quotechar, line_terminator, chunksize, tupleize_cols, date_format, doublequote, escapechar, decimal)\u001b[0m\n\u001b[0;32m   1743\u001b[0m                                  \u001b[0mdoublequote\u001b[0m\u001b[1;33m=\u001b[0m\u001b[0mdoublequote\u001b[0m\u001b[1;33m,\u001b[0m\u001b[1;33m\u001b[0m\u001b[0m\n\u001b[0;32m   1744\u001b[0m                                  escapechar=escapechar, decimal=decimal)\n\u001b[1;32m-> 1745\u001b[1;33m         \u001b[0mformatter\u001b[0m\u001b[1;33m.\u001b[0m\u001b[0msave\u001b[0m\u001b[1;33m(\u001b[0m\u001b[1;33m)\u001b[0m\u001b[1;33m\u001b[0m\u001b[0m\n\u001b[0m\u001b[0;32m   1746\u001b[0m \u001b[1;33m\u001b[0m\u001b[0m\n\u001b[0;32m   1747\u001b[0m         \u001b[1;32mif\u001b[0m \u001b[0mpath_or_buf\u001b[0m \u001b[1;32mis\u001b[0m \u001b[1;32mNone\u001b[0m\u001b[1;33m:\u001b[0m\u001b[1;33m\u001b[0m\u001b[0m\n",
      "\u001b[1;32m~\\Anaconda3\\lib\\site-packages\\pandas\\io\\formats\\csvs.py\u001b[0m in \u001b[0;36msave\u001b[1;34m(self)\u001b[0m\n\u001b[0;32m    134\u001b[0m             f, handles = _get_handle(self.path_or_buf, self.mode,\n\u001b[0;32m    135\u001b[0m                                      \u001b[0mencoding\u001b[0m\u001b[1;33m=\u001b[0m\u001b[0mencoding\u001b[0m\u001b[1;33m,\u001b[0m\u001b[1;33m\u001b[0m\u001b[0m\n\u001b[1;32m--> 136\u001b[1;33m                                      compression=None)\n\u001b[0m\u001b[0;32m    137\u001b[0m             \u001b[0mclose\u001b[0m \u001b[1;33m=\u001b[0m \u001b[1;32mTrue\u001b[0m \u001b[1;32mif\u001b[0m \u001b[0mself\u001b[0m\u001b[1;33m.\u001b[0m\u001b[0mcompression\u001b[0m \u001b[1;32mis\u001b[0m \u001b[1;32mNone\u001b[0m \u001b[1;32melse\u001b[0m \u001b[1;32mFalse\u001b[0m\u001b[1;33m\u001b[0m\u001b[0m\n\u001b[0;32m    138\u001b[0m \u001b[1;33m\u001b[0m\u001b[0m\n",
      "\u001b[1;32m~\\Anaconda3\\lib\\site-packages\\pandas\\io\\common.py\u001b[0m in \u001b[0;36m_get_handle\u001b[1;34m(path_or_buf, mode, encoding, compression, memory_map, is_text)\u001b[0m\n\u001b[0;32m    398\u001b[0m         \u001b[1;32melif\u001b[0m \u001b[0mencoding\u001b[0m\u001b[1;33m:\u001b[0m\u001b[1;33m\u001b[0m\u001b[0m\n\u001b[0;32m    399\u001b[0m             \u001b[1;31m# Python 3 and encoding\u001b[0m\u001b[1;33m\u001b[0m\u001b[1;33m\u001b[0m\u001b[0m\n\u001b[1;32m--> 400\u001b[1;33m             \u001b[0mf\u001b[0m \u001b[1;33m=\u001b[0m \u001b[0mopen\u001b[0m\u001b[1;33m(\u001b[0m\u001b[0mpath_or_buf\u001b[0m\u001b[1;33m,\u001b[0m \u001b[0mmode\u001b[0m\u001b[1;33m,\u001b[0m \u001b[0mencoding\u001b[0m\u001b[1;33m=\u001b[0m\u001b[0mencoding\u001b[0m\u001b[1;33m)\u001b[0m\u001b[1;33m\u001b[0m\u001b[0m\n\u001b[0m\u001b[0;32m    401\u001b[0m         \u001b[1;32melif\u001b[0m \u001b[0mis_text\u001b[0m\u001b[1;33m:\u001b[0m\u001b[1;33m\u001b[0m\u001b[0m\n\u001b[0;32m    402\u001b[0m             \u001b[1;31m# Python 3 and no explicit encoding\u001b[0m\u001b[1;33m\u001b[0m\u001b[1;33m\u001b[0m\u001b[0m\n",
      "\u001b[1;31mPermissionError\u001b[0m: [Errno 13] Permission denied: 'reviews.csv'"
     ]
    }
   ],
   "source": [
    "tab_reviews.to_csv('reviews.csv', index = False, encoding='utf-8')"
   ]
  },
  {
   "cell_type": "code",
   "execution_count": null,
   "metadata": {},
   "outputs": [],
   "source": [
    "tab_reviews.count()"
   ]
  },
  {
   "cell_type": "code",
   "execution_count": null,
   "metadata": {},
   "outputs": [],
   "source": [
    "tab_reviews.drop_duplicates().count()"
   ]
  },
  {
   "cell_type": "code",
   "execution_count": null,
   "metadata": {},
   "outputs": [],
   "source": []
  }
 ],
 "metadata": {
  "kernelspec": {
   "display_name": "Python 3",
   "language": "python",
   "name": "python3"
  },
  "language_info": {
   "codemirror_mode": {
    "name": "ipython",
    "version": 3
   },
   "file_extension": ".py",
   "mimetype": "text/x-python",
   "name": "python",
   "nbconvert_exporter": "python",
   "pygments_lexer": "ipython3",
   "version": "3.6.5"
  }
 },
 "nbformat": 4,
 "nbformat_minor": 2
}
