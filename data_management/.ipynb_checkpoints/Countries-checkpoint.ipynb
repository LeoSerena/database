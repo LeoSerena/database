{
 "cells": [
  {
   "cell_type": "code",
   "execution_count": 1,
   "metadata": {},
   "outputs": [],
   "source": [
    "import pandas as pd \n",
    "import numpy as np\n",
    "import csv"
   ]
  },
  {
   "cell_type": "code",
   "execution_count": 2,
   "metadata": {},
   "outputs": [],
   "source": [
    "barcelona_listings = pd.read_csv(\"barcelona_listings.csv\")\n",
    "#barcelona_calendar = pd.read_csv(\"C:/Users/loris/OneDrive/EPFL/2018-19/databaseSystems/project/database/barcelona_calendar.csv\")\n",
    "#barcelona_reviews = pd.read_csv(\"C:/Users/loris/OneDrive/EPFL/2018-19/databaseSystems/project/database/barcelona_reviews.csv\")\n",
    "\n",
    "madrid_listings = pd.read_csv(\"madrid_listings_filtered.csv\")\n",
    "#madrid_calendar = pd.read_csv(\"C:/Users/loris/OneDrive/EPFL/2018-19/databaseSystems/project/database/madrid_calendar.csv\")\n",
    "#madrid_reviews = pd.read_csv(\"C:/Users/loris/OneDrive/EPFL/2018-19/databaseSystems/project/database/madrid_reviews.csv\")\n",
    "\n",
    "berlin_listings = pd.read_csv(\"berlin_listings_filtered.csv\")\n",
    "#berlin_calendar = pd.read_csv(\"C:/Users/loris/OneDrive/EPFL/2018-19/databaseSystems/project/database/berlin_calendar.csv\")\n",
    "#berlin_reviews = pd.read_csv(\"C:/Users/loris/OneDrive/EPFL/2018-19/databaseSystems/project/database/berlin_reviews.csv\")"
   ]
  },
  {
   "cell_type": "code",
   "execution_count": 3,
   "metadata": {},
   "outputs": [
    {
     "name": "stdout",
     "output_type": "stream",
     "text": [
      "<class 'list'>\n",
      "[['Spain', 'ES'], ['Germany', 'DE']]\n"
     ]
    }
   ],
   "source": [
    "tab1 = []\n",
    "for index, row in barcelona_listings.iterrows() :\n",
    "        if(not [row['country'], row['country_code']] in tab1):\n",
    "            tab1.append([row['country'], row['country_code']])\n",
    "for index, row in madrid_listings.iterrows() :\n",
    "        if(not [row['country'], row['country_code']] in tab1):\n",
    "            tab1.append([row['country'], row['country_code']])\n",
    "for index, row in berlin_listings.iterrows() :\n",
    "        if(not [row['country'], row['country_code']] in tab1):\n",
    "            tab1.append([row['country'], row['country_code']])\n",
    "print(type(tab1))\n",
    "print(tab1)"
   ]
  },
  {
   "cell_type": "code",
   "execution_count": 4,
   "metadata": {},
   "outputs": [],
   "source": [
    "with open('Countries.csv', 'w', newline='') as countries_file:\n",
    "    countries_writer = csv.writer(countries_file, delimiter=',',\n",
    "                            quotechar='\"', quoting=csv.QUOTE_MINIMAL)\n",
    "    countries_writer.writerow(['COUNTRY_ID','COUNTRY','COUNTRY_CODE'])\n",
    "    for i in range(0,len(tab1)):\n",
    "        countries_writer.writerow([i]+tab1[i])\n",
    "#csvFile.close()"
   ]
  },
  {
   "cell_type": "code",
   "execution_count": null,
   "metadata": {},
   "outputs": [],
   "source": []
  }
 ],
 "metadata": {
  "kernelspec": {
   "display_name": "Python 3",
   "language": "python",
   "name": "python3"
  },
  "language_info": {
   "codemirror_mode": {
    "name": "ipython",
    "version": 3
   },
   "file_extension": ".py",
   "mimetype": "text/x-python",
   "name": "python",
   "nbconvert_exporter": "python",
   "pygments_lexer": "ipython3",
   "version": "3.6.5"
  }
 },
 "nbformat": 4,
 "nbformat_minor": 2
}
