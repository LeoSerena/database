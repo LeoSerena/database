{
 "cells": [
  {
   "cell_type": "code",
   "execution_count": 1,
   "metadata": {
    "collapsed": true
   },
   "outputs": [],
   "source": [
    "import numpy as np\n",
    "import pandas as pd"
   ]
  },
  {
   "cell_type": "code",
   "execution_count": 2,
   "metadata": {
    "collapsed": true
   },
   "outputs": [],
   "source": [
    "barcelona_listings = pd.read_csv(\"barcelona_listings.csv\")\n",
    "berlin_listings = pd.read_csv(\"berlin_listings_filtered.csv\")\n",
    "madrid_listings = pd.read_csv(\"madrid_listings_filtered.csv\")"
   ]
  },
  {
   "cell_type": "markdown",
   "metadata": {},
   "source": [
    "## BED TYPES"
   ]
  },
  {
   "cell_type": "code",
   "execution_count": 3,
   "metadata": {
    "collapsed": true
   },
   "outputs": [],
   "source": [
    "all_bed_types = pd.concat([berlin_listings['bed_type'],\n",
    "                           madrid_listings['bed_type'],\n",
    "                           barcelona_listings['bed_type']])\n",
    "\n"
   ]
  },
  {
   "cell_type": "code",
   "execution_count": 4,
   "metadata": {},
   "outputs": [
    {
     "data": {
      "text/plain": [
       "0         Real Bed\n",
       "1    Pull-out Sofa\n",
       "2            Futon\n",
       "3            Couch\n",
       "4           Airbed\n",
       "dtype: object"
      ]
     },
     "execution_count": 4,
     "metadata": {},
     "output_type": "execute_result"
    }
   ],
   "source": [
    "bed_types = all_bed_types.unique()\n",
    "bed_types = pd.Series(bed_types)\n",
    "bed_types"
   ]
  },
  {
   "cell_type": "code",
   "execution_count": 5,
   "metadata": {
    "collapsed": true
   },
   "outputs": [],
   "source": [
    "bed_types = pd.DataFrame(bed_types).rename(index = str, columns = {0 : 'BED_TYPE'})\n",
    "bed_types['BED_TYPE_ID'] = range(bed_types['BED_TYPE'].count())\n",
    "bed_types = bed_types.set_index('BED_TYPE_ID')"
   ]
  },
  {
   "cell_type": "code",
   "execution_count": 6,
   "metadata": {
    "collapsed": true
   },
   "outputs": [],
   "source": [
    "bed_types.to_csv('bed_types.csv')"
   ]
  },
  {
   "cell_type": "markdown",
   "metadata": {},
   "source": [
    "## Cancelation policy"
   ]
  },
  {
   "cell_type": "code",
   "execution_count": 7,
   "metadata": {
    "collapsed": true
   },
   "outputs": [],
   "source": [
    "all_cancel_pol = pd.concat([berlin_listings['cancellation_policy'],\n",
    "                           madrid_listings['cancellation_policy'],\n",
    "                           barcelona_listings['cancellation_policy']])"
   ]
  },
  {
   "cell_type": "code",
   "execution_count": 8,
   "metadata": {},
   "outputs": [
    {
     "data": {
      "text/plain": [
       "0    strict_14_with_grace_period\n",
       "1                       moderate\n",
       "2                       flexible\n",
       "3                super_strict_60\n",
       "4                super_strict_30\n",
       "5                         strict\n",
       "dtype: object"
      ]
     },
     "execution_count": 8,
     "metadata": {},
     "output_type": "execute_result"
    }
   ],
   "source": [
    "cancel_pol = all_cancel_pol.unique()\n",
    "cancel_pol = pd.Series(cancel_pol)\n",
    "cancel_pol"
   ]
  },
  {
   "cell_type": "code",
   "execution_count": 9,
   "metadata": {
    "collapsed": true
   },
   "outputs": [],
   "source": [
    "cancel_pol = pd.DataFrame(cancel_pol).rename(index = str, columns = {0 : 'CANCELLATION_POLICY'})\n",
    "cancel_pol['CANCELLATION_POLICY_ID'] = range(cancel_pol['CANCELLATION_POLICY'].count())\n",
    "cancel_pol = cancel_pol.set_index('CANCELLATION_POLICY_ID')"
   ]
  },
  {
   "cell_type": "code",
   "execution_count": 10,
   "metadata": {
    "collapsed": true
   },
   "outputs": [],
   "source": [
    "cancel_pol.to_csv('cancel_pol.csv')"
   ]
  },
  {
   "cell_type": "markdown",
   "metadata": {},
   "source": [
    "## Room types"
   ]
  },
  {
   "cell_type": "code",
   "execution_count": 11,
   "metadata": {
    "collapsed": true
   },
   "outputs": [],
   "source": [
    "all_room_types = pd.concat([berlin_listings['room_type'],\n",
    "                           madrid_listings['room_type'],\n",
    "                           barcelona_listings['room_type']])"
   ]
  },
  {
   "cell_type": "code",
   "execution_count": 12,
   "metadata": {},
   "outputs": [
    {
     "data": {
      "text/plain": [
       "0    Entire home/apt\n",
       "1       Private room\n",
       "2        Shared room\n",
       "dtype: object"
      ]
     },
     "execution_count": 12,
     "metadata": {},
     "output_type": "execute_result"
    }
   ],
   "source": [
    "room_types = pd.Series(all_room_types.unique())\n",
    "room_types"
   ]
  },
  {
   "cell_type": "code",
   "execution_count": 13,
   "metadata": {
    "collapsed": true
   },
   "outputs": [],
   "source": [
    "room_types = pd.DataFrame(room_types).rename(index = str, columns = {0 : 'ROOM_TYPE'})\n",
    "room_types['ROOM_TYPE_ID'] = range(room_types['ROOM_TYPE'].count())\n",
    "room_types = room_types.set_index('ROOM_TYPE_ID')\n",
    "room_types.to_csv('room_type.csv')"
   ]
  },
  {
   "cell_type": "code",
   "execution_count": 14,
   "metadata": {},
   "outputs": [
    {
     "data": {
      "text/html": [
       "<div>\n",
       "<style>\n",
       "    .dataframe thead tr:only-child th {\n",
       "        text-align: right;\n",
       "    }\n",
       "\n",
       "    .dataframe thead th {\n",
       "        text-align: left;\n",
       "    }\n",
       "\n",
       "    .dataframe tbody tr th {\n",
       "        vertical-align: top;\n",
       "    }\n",
       "</style>\n",
       "<table border=\"1\" class=\"dataframe\">\n",
       "  <thead>\n",
       "    <tr style=\"text-align: right;\">\n",
       "      <th></th>\n",
       "      <th>ROOM_TYPE</th>\n",
       "    </tr>\n",
       "    <tr>\n",
       "      <th>ROOM_TYPE_ID</th>\n",
       "      <th></th>\n",
       "    </tr>\n",
       "  </thead>\n",
       "  <tbody>\n",
       "    <tr>\n",
       "      <th>0</th>\n",
       "      <td>Entire home/apt</td>\n",
       "    </tr>\n",
       "    <tr>\n",
       "      <th>1</th>\n",
       "      <td>Private room</td>\n",
       "    </tr>\n",
       "    <tr>\n",
       "      <th>2</th>\n",
       "      <td>Shared room</td>\n",
       "    </tr>\n",
       "  </tbody>\n",
       "</table>\n",
       "</div>"
      ],
      "text/plain": [
       "                    ROOM_TYPE\n",
       "ROOM_TYPE_ID                 \n",
       "0             Entire home/apt\n",
       "1                Private room\n",
       "2                 Shared room"
      ]
     },
     "execution_count": 14,
     "metadata": {},
     "output_type": "execute_result"
    }
   ],
   "source": [
    "room_types"
   ]
  },
  {
   "cell_type": "markdown",
   "metadata": {},
   "source": [
    "## Property types"
   ]
  },
  {
   "cell_type": "code",
   "execution_count": 15,
   "metadata": {
    "collapsed": true
   },
   "outputs": [],
   "source": [
    "all_property_types = pd.concat([berlin_listings['property_type'],\n",
    "                           madrid_listings['property_type'],\n",
    "                           barcelona_listings['property_type']])"
   ]
  },
  {
   "cell_type": "code",
   "execution_count": 16,
   "metadata": {},
   "outputs": [
    {
     "data": {
      "text/plain": [
       "0                  Apartment\n",
       "1                Condominium\n",
       "2                       Loft\n",
       "3                      House\n",
       "4                  Townhouse\n",
       "5                 Tiny house\n",
       "6                Guest suite\n",
       "7         Serviced apartment\n",
       "8                     Hostel\n",
       "9                 Guesthouse\n",
       "10                     Other\n",
       "11         Bed and breakfast\n",
       "12                   Cottage\n",
       "13                    Chalet\n",
       "14                  Bungalow\n",
       "15                     Cabin\n",
       "16                    Castle\n",
       "17            Boutique hotel\n",
       "18                     Villa\n",
       "19                      Boat\n",
       "20                Aparthotel\n",
       "21                 Houseboat\n",
       "22                     Hotel\n",
       "23                      Tipi\n",
       "24                    Resort\n",
       "25                 Camper/RV\n",
       "26                     Train\n",
       "27                    In-law\n",
       "28                      Cave\n",
       "29                      Barn\n",
       "30    Casa particular (Cuba)\n",
       "31                Dome house\n",
       "32                       Hut\n",
       "33                      Dorm\n",
       "34               Earth house\n",
       "35     Pension (South Korea)\n",
       "36                 Farm stay\n",
       "dtype: object"
      ]
     },
     "execution_count": 16,
     "metadata": {},
     "output_type": "execute_result"
    }
   ],
   "source": [
    "property_types = pd.Series(all_property_types.unique())\n",
    "property_types"
   ]
  },
  {
   "cell_type": "code",
   "execution_count": 17,
   "metadata": {
    "collapsed": true
   },
   "outputs": [],
   "source": [
    "property_types = pd.DataFrame(property_types).rename(index = str, columns = {0 : 'PROPERTY_TYPE'})\n",
    "property_types['PROPERTY_TYPE_ID'] = range(property_types['PROPERTY_TYPE'].count())\n",
    "property_types = property_types.set_index('PROPERTY_TYPE_ID')\n",
    "property_types.to_csv('property_type.csv')"
   ]
  }
 ],
 "metadata": {
  "kernelspec": {
   "display_name": "Python 3",
   "language": "python",
   "name": "python3"
  },
  "language_info": {
   "codemirror_mode": {
    "name": "ipython",
    "version": 3
   },
   "file_extension": ".py",
   "mimetype": "text/x-python",
   "name": "python",
   "nbconvert_exporter": "python",
   "pygments_lexer": "ipython3",
   "version": "3.5.3"
  }
 },
 "nbformat": 4,
 "nbformat_minor": 2
}
