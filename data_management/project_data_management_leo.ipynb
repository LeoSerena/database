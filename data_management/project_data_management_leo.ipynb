{
 "cells": [
  {
   "cell_type": "code",
   "execution_count": 2,
   "metadata": {},
   "outputs": [],
   "source": [
    "import numpy as np\n",
    "import pandas as pd"
   ]
  },
  {
   "cell_type": "markdown",
   "metadata": {},
   "source": [
    "# Importing data\n",
    "\n",
    "### Becelona Data"
   ]
  },
  {
   "cell_type": "code",
   "execution_count": 24,
   "metadata": {},
   "outputs": [],
   "source": [
    "barcelona_calendar = pd.read_csv(\"barcelona_calendar.csv\")\n",
    "barcelona_listings = pd.read_csv(\"barcelona_listings.csv\")\n",
    "barcelona_reviews = pd.read_csv(\"barcelona_reviews.csv\")"
   ]
  },
  {
   "cell_type": "markdown",
   "metadata": {},
   "source": [
    "### Berlin Data"
   ]
  },
  {
   "cell_type": "code",
   "execution_count": 25,
   "metadata": {},
   "outputs": [],
   "source": [
    "berlin_calendar = pd.read_csv(\"berlin_calendar.csv\")\n",
    "berlin_listings = pd.read_csv(\"berlin_listings_filtered.csv\")\n",
    "berlin_reviews = pd.read_csv(\"berlin_reviews.csv\")"
   ]
  },
  {
   "cell_type": "markdown",
   "metadata": {},
   "source": [
    "### Madrid Data"
   ]
  },
  {
   "cell_type": "code",
   "execution_count": 26,
   "metadata": {},
   "outputs": [],
   "source": [
    "madrid_calendar = pd.read_csv(\"madrid_calendar.csv\")\n",
    "madrid_listings = pd.read_csv(\"madrid_listings_filtered.csv\")\n",
    "madrid_reviews = pd.read_csv(\"madrid_reviews.csv\")"
   ]
  },
  {
   "cell_type": "markdown",
   "metadata": {},
   "source": [
    "# Data management\n",
    "## amenities\n",
    "### amenities: AMENITY; AMENITY_ID"
   ]
  },
  {
   "cell_type": "code",
   "execution_count": 57,
   "metadata": {},
   "outputs": [],
   "source": [
    "all_amenities = pd.concat([berlin_listings['amenities'], madrid_listings['amenities'], barcelona_listings['amenities']]) #concatenate all amenities\n",
    "amenities = all_amenities.str.replace('{','').str.replace('}','').str.replace('\"', '') #remove '{' , '}' and '\"' \n",
    "amenities = amenities.str.split(',', expand = True) #seperate all amenities\n",
    "a = amenities.sort_index().values #change into a np array\n",
    "a = a.ravel() #ravel into a 1D array\n",
    "a = a[a != None] #removes all None\n",
    "a = np.unique(a) #same as drop_duplicates\n",
    "a = a[1:] #the first one was an empty string\n",
    "amenities = pd.Series(a) #to pd\n",
    "amenities = amenities.sort_values() # those are the amenities sorted\n",
    "#note: the toilet amenity has a space at the beginning"
   ]
  },
  {
   "cell_type": "code",
   "execution_count": 58,
   "metadata": {},
   "outputs": [],
   "source": [
    "amenities = pd.DataFrame(amenities).rename(index = str, columns = {0 : 'AMENITY'}) #gives amenities column a name\n",
    "amenities['AMENITY_ID'] = range(amenities['AMENITY'].count()) #create indexes for each amenity\n",
    "amenities= amenities.set_index('AMENITY_ID') #defines the created indexes as the index"
   ]
  },
  {
   "cell_type": "code",
   "execution_count": 59,
   "metadata": {},
   "outputs": [
    {
     "data": {
      "text/html": [
       "<div>\n",
       "<style scoped>\n",
       "    .dataframe tbody tr th:only-of-type {\n",
       "        vertical-align: middle;\n",
       "    }\n",
       "\n",
       "    .dataframe tbody tr th {\n",
       "        vertical-align: top;\n",
       "    }\n",
       "\n",
       "    .dataframe thead th {\n",
       "        text-align: right;\n",
       "    }\n",
       "</style>\n",
       "<table border=\"1\" class=\"dataframe\">\n",
       "  <thead>\n",
       "    <tr style=\"text-align: right;\">\n",
       "      <th></th>\n",
       "      <th>AMENITY</th>\n",
       "    </tr>\n",
       "    <tr>\n",
       "      <th>AMENITY_ID</th>\n",
       "      <th></th>\n",
       "    </tr>\n",
       "  </thead>\n",
       "  <tbody>\n",
       "    <tr>\n",
       "      <th>0</th>\n",
       "      <td>toilet</td>\n",
       "    </tr>\n",
       "    <tr>\n",
       "      <th>1</th>\n",
       "      <td>24-hour check-in</td>\n",
       "    </tr>\n",
       "    <tr>\n",
       "      <th>2</th>\n",
       "      <td>Accessible-height bed</td>\n",
       "    </tr>\n",
       "    <tr>\n",
       "      <th>3</th>\n",
       "      <td>Accessible-height toilet</td>\n",
       "    </tr>\n",
       "    <tr>\n",
       "      <th>4</th>\n",
       "      <td>Air conditioning</td>\n",
       "    </tr>\n",
       "  </tbody>\n",
       "</table>\n",
       "</div>"
      ],
      "text/plain": [
       "                             AMENITY\n",
       "AMENITY_ID                          \n",
       "0                             toilet\n",
       "1                   24-hour check-in\n",
       "2              Accessible-height bed\n",
       "3           Accessible-height toilet\n",
       "4                   Air conditioning"
      ]
     },
     "execution_count": 59,
     "metadata": {},
     "output_type": "execute_result"
    }
   ],
   "source": [
    "amenities.head(5)"
   ]
  },
  {
   "cell_type": "code",
   "execution_count": 60,
   "metadata": {},
   "outputs": [],
   "source": [
    "amenities.to_csv('amenities.csv')"
   ]
  },
  {
   "cell_type": "markdown",
   "metadata": {},
   "source": [
    "### amenities_AND_listings: AMENITY_ID; LISTING_ID"
   ]
  },
  {
   "cell_type": "code",
   "execution_count": 8,
   "metadata": {},
   "outputs": [],
   "source": [
    "am_lis = all_amenities.str.replace('{','').str.replace('}','').str.replace('\"','') \n",
    "am_lis = am_lis.map(lambda x: np.array(x.split(',')))\n",
    "am_lis = am_lis.map(lambda l : [amenities[amenities['AMENITY'] == a].index[0] for a in l if len(l)>1]) #len(l)>1 is because empty amenities list still have a length of 1 for some reason"
   ]
  },
  {
   "cell_type": "code",
   "execution_count": 10,
   "metadata": {},
   "outputs": [],
   "source": [
    "am_lis = pd.DataFrame(am_lis).rename(index = str, columns = {'amenities' : 'AMENITY_ID'})\n",
    "am_lis['LISTING_ID'] = berlin_listings['id'].values"
   ]
  },
  {
   "cell_type": "code",
   "execution_count": 11,
   "metadata": {},
   "outputs": [],
   "source": [
    "am_lis_np = am_lis.values\n",
    "temp = np.array([])\n",
    "for x in am_lis_np:\n",
    "    for i in x[0]:\n",
    "        temp = np.insert(temp, 0, np.array([i, x[1]]))\n",
    "#would be great to be able to do it without a for..."
   ]
  },
  {
   "cell_type": "code",
   "execution_count": 21,
   "metadata": {},
   "outputs": [
    {
     "data": {
      "text/html": [
       "<div>\n",
       "<style scoped>\n",
       "    .dataframe tbody tr th:only-of-type {\n",
       "        vertical-align: middle;\n",
       "    }\n",
       "\n",
       "    .dataframe tbody tr th {\n",
       "        vertical-align: top;\n",
       "    }\n",
       "\n",
       "    .dataframe thead th {\n",
       "        text-align: right;\n",
       "    }\n",
       "</style>\n",
       "<table border=\"1\" class=\"dataframe\">\n",
       "  <thead>\n",
       "    <tr style=\"text-align: right;\">\n",
       "      <th></th>\n",
       "      <th>AMENITY_ID</th>\n",
       "      <th>LISTING_ID</th>\n",
       "    </tr>\n",
       "  </thead>\n",
       "  <tbody>\n",
       "    <tr>\n",
       "      <th>0</th>\n",
       "      <td>78</td>\n",
       "      <td>2173438</td>\n",
       "    </tr>\n",
       "    <tr>\n",
       "      <th>1</th>\n",
       "      <td>62</td>\n",
       "      <td>2173438</td>\n",
       "    </tr>\n",
       "    <tr>\n",
       "      <th>2</th>\n",
       "      <td>64</td>\n",
       "      <td>2173438</td>\n",
       "    </tr>\n",
       "    <tr>\n",
       "      <th>3</th>\n",
       "      <td>44</td>\n",
       "      <td>2173438</td>\n",
       "    </tr>\n",
       "    <tr>\n",
       "      <th>4</th>\n",
       "      <td>40</td>\n",
       "      <td>2173438</td>\n",
       "    </tr>\n",
       "  </tbody>\n",
       "</table>\n",
       "</div>"
      ],
      "text/plain": [
       "   AMENITY_ID  LISTING_ID\n",
       "0          78     2173438\n",
       "1          62     2173438\n",
       "2          64     2173438\n",
       "3          44     2173438\n",
       "4          40     2173438"
      ]
     },
     "execution_count": 21,
     "metadata": {},
     "output_type": "execute_result"
    }
   ],
   "source": [
    "temp = np.resize(temp, (temp.size, 2)).astype('int')\n",
    "am_lis = pd.DataFrame({'AMENITY_ID' : temp[:,0], 'LISTING_ID' : temp[:,1]})\n",
    "am_lis.head()"
   ]
  },
  {
   "cell_type": "code",
   "execution_count": 22,
   "metadata": {},
   "outputs": [],
   "source": [
    "am_lis.to_csv('amenities_AND_listings.csv', index = False)"
   ]
  },
  {
   "cell_type": "markdown",
   "metadata": {},
   "source": [
    "## Hosts"
   ]
  },
  {
   "cell_type": "markdown",
   "metadata": {},
   "source": [
    "### host_response_time: HOST_RESPONSE_TIME_ID; HOST_RESPONSE_TIME"
   ]
  },
  {
   "cell_type": "code",
   "execution_count": 157,
   "metadata": {},
   "outputs": [],
   "source": [
    "# Those are all the hosts of all the different listings\n",
    "listingsB_hosts = berlin_listings.iloc[:, 13:23]\n",
    "listingsM_hosts = madrid_listings.iloc[:, 13:23]\n",
    "listingsBa_hosts = barcelona_listings.iloc[:, 13:23]\n",
    "# We concatenate hosts from all cities\n",
    "listings_hosts = pd.concat([listingsB_hosts, listingsM_hosts, listingsBa_hosts])\n",
    "# we remove host duplicates since a host can have several listings.\n",
    "hosts = listings_hosts.drop_duplicates(subset = 'host_id', keep = 'first')"
   ]
  },
  {
   "cell_type": "code",
   "execution_count": 163,
   "metadata": {},
   "outputs": [
    {
     "data": {
      "text/html": [
       "<div>\n",
       "<style scoped>\n",
       "    .dataframe tbody tr th:only-of-type {\n",
       "        vertical-align: middle;\n",
       "    }\n",
       "\n",
       "    .dataframe tbody tr th {\n",
       "        vertical-align: top;\n",
       "    }\n",
       "\n",
       "    .dataframe thead th {\n",
       "        text-align: right;\n",
       "    }\n",
       "</style>\n",
       "<table border=\"1\" class=\"dataframe\">\n",
       "  <thead>\n",
       "    <tr style=\"text-align: right;\">\n",
       "      <th></th>\n",
       "      <th>host_response_time</th>\n",
       "    </tr>\n",
       "    <tr>\n",
       "      <th>host_response_time_id</th>\n",
       "      <th></th>\n",
       "    </tr>\n",
       "  </thead>\n",
       "  <tbody>\n",
       "    <tr>\n",
       "      <th>0</th>\n",
       "      <td>within an hour</td>\n",
       "    </tr>\n",
       "    <tr>\n",
       "      <th>1</th>\n",
       "      <td>NaN</td>\n",
       "    </tr>\n",
       "    <tr>\n",
       "      <th>2</th>\n",
       "      <td>within a day</td>\n",
       "    </tr>\n",
       "    <tr>\n",
       "      <th>3</th>\n",
       "      <td>within a few hours</td>\n",
       "    </tr>\n",
       "    <tr>\n",
       "      <th>4</th>\n",
       "      <td>a few days or more</td>\n",
       "    </tr>\n",
       "  </tbody>\n",
       "</table>\n",
       "</div>"
      ],
      "text/plain": [
       "                       host_response_time\n",
       "host_response_time_id                    \n",
       "0                          within an hour\n",
       "1                                     NaN\n",
       "2                            within a day\n",
       "3                      within a few hours\n",
       "4                      a few days or more"
      ]
     },
     "execution_count": 163,
     "metadata": {},
     "output_type": "execute_result"
    }
   ],
   "source": [
    "host_resp_time = pd.DataFrame(hosts['host_response_time'].drop_duplicates(keep = 'first')) #filters the host_response_time\n",
    "host_resp_time['host_response_time_id'] = range(host_resp_time['host_response_time'].count()+1) #creates indexes\n",
    "host_resp_time = host_resp_time.set_index('host_response_time_id') #set new indexes\n",
    "host_resp_time.head()"
   ]
  },
  {
   "cell_type": "code",
   "execution_count": 164,
   "metadata": {},
   "outputs": [],
   "source": [
    "host_resp_time.to_csv('host_response_time.csv')"
   ]
  },
  {
   "cell_type": "markdown",
   "metadata": {},
   "source": [
    "## hosts"
   ]
  },
  {
   "cell_type": "code",
   "execution_count": 166,
   "metadata": {},
   "outputs": [
    {
     "data": {
      "text/html": [
       "<div>\n",
       "<style scoped>\n",
       "    .dataframe tbody tr th:only-of-type {\n",
       "        vertical-align: middle;\n",
       "    }\n",
       "\n",
       "    .dataframe tbody tr th {\n",
       "        vertical-align: top;\n",
       "    }\n",
       "\n",
       "    .dataframe thead th {\n",
       "        text-align: right;\n",
       "    }\n",
       "</style>\n",
       "<table border=\"1\" class=\"dataframe\">\n",
       "  <thead>\n",
       "    <tr style=\"text-align: right;\">\n",
       "      <th></th>\n",
       "      <th>host_id</th>\n",
       "      <th>host_url</th>\n",
       "      <th>host_name</th>\n",
       "      <th>host_since</th>\n",
       "      <th>host_about</th>\n",
       "      <th>host_response_time</th>\n",
       "      <th>host_thumbnail_url</th>\n",
       "      <th>host_picture_url</th>\n",
       "      <th>host_neighbourhood</th>\n",
       "      <th>host_response_rate</th>\n",
       "    </tr>\n",
       "  </thead>\n",
       "  <tbody>\n",
       "    <tr>\n",
       "      <th>0</th>\n",
       "      <td>10692949</td>\n",
       "      <td>https://www.airbnb.com/users/show/10692949</td>\n",
       "      <td>Suites &amp; More</td>\n",
       "      <td>2013-12-18</td>\n",
       "      <td>Like hosts we like to offer what we would like...</td>\n",
       "      <td>within an hour</td>\n",
       "      <td>https://a0.muscache.com/im/users/10692949/prof...</td>\n",
       "      <td>https://a0.muscache.com/im/users/10692949/prof...</td>\n",
       "      <td>Kreuzberg</td>\n",
       "      <td>100</td>\n",
       "    </tr>\n",
       "    <tr>\n",
       "      <th>1</th>\n",
       "      <td>10914898</td>\n",
       "      <td>https://www.airbnb.com/users/show/10914898</td>\n",
       "      <td>Anita</td>\n",
       "      <td>2013-12-30</td>\n",
       "      <td>NaN</td>\n",
       "      <td>NaN</td>\n",
       "      <td>https://a0.muscache.com/im/pictures/37a4e6f0-6...</td>\n",
       "      <td>https://a0.muscache.com/im/pictures/37a4e6f0-6...</td>\n",
       "      <td>Friedrichshain</td>\n",
       "      <td>NaN</td>\n",
       "    </tr>\n",
       "    <tr>\n",
       "      <th>2</th>\n",
       "      <td>4314868</td>\n",
       "      <td>https://www.airbnb.com/users/show/4314868</td>\n",
       "      <td>Katharina</td>\n",
       "      <td>2012-12-03</td>\n",
       "      <td>Ich lebe in Berlin - im schönen Prenzlauer Ber...</td>\n",
       "      <td>within an hour</td>\n",
       "      <td>https://a0.muscache.com/im/users/4314868/profi...</td>\n",
       "      <td>https://a0.muscache.com/im/users/4314868/profi...</td>\n",
       "      <td>Prenzlauer Berg</td>\n",
       "      <td>90</td>\n",
       "    </tr>\n",
       "    <tr>\n",
       "      <th>3</th>\n",
       "      <td>9828152</td>\n",
       "      <td>https://www.airbnb.com/users/show/9828152</td>\n",
       "      <td>Katrin</td>\n",
       "      <td>2013-11-05</td>\n",
       "      <td>Wir sind leidenschaftliche Berliner, lieben un...</td>\n",
       "      <td>NaN</td>\n",
       "      <td>https://a0.muscache.com/im/users/9828152/profi...</td>\n",
       "      <td>https://a0.muscache.com/im/users/9828152/profi...</td>\n",
       "      <td>Alt-Hohenschönhausen</td>\n",
       "      <td>NaN</td>\n",
       "    </tr>\n",
       "    <tr>\n",
       "      <th>4</th>\n",
       "      <td>10962834</td>\n",
       "      <td>https://www.airbnb.com/users/show/10962834</td>\n",
       "      <td>Katharina</td>\n",
       "      <td>2014-01-02</td>\n",
       "      <td>NaN</td>\n",
       "      <td>NaN</td>\n",
       "      <td>https://a0.muscache.com/im/users/10962834/prof...</td>\n",
       "      <td>https://a0.muscache.com/im/users/10962834/prof...</td>\n",
       "      <td>Moabit</td>\n",
       "      <td>NaN</td>\n",
       "    </tr>\n",
       "  </tbody>\n",
       "</table>\n",
       "</div>"
      ],
      "text/plain": [
       "    host_id                                    host_url      host_name  \\\n",
       "0  10692949  https://www.airbnb.com/users/show/10692949  Suites & More   \n",
       "1  10914898  https://www.airbnb.com/users/show/10914898          Anita   \n",
       "2   4314868   https://www.airbnb.com/users/show/4314868      Katharina   \n",
       "3   9828152   https://www.airbnb.com/users/show/9828152         Katrin   \n",
       "4  10962834  https://www.airbnb.com/users/show/10962834      Katharina   \n",
       "\n",
       "   host_since                                         host_about  \\\n",
       "0  2013-12-18  Like hosts we like to offer what we would like...   \n",
       "1  2013-12-30                                                NaN   \n",
       "2  2012-12-03  Ich lebe in Berlin - im schönen Prenzlauer Ber...   \n",
       "3  2013-11-05  Wir sind leidenschaftliche Berliner, lieben un...   \n",
       "4  2014-01-02                                                NaN   \n",
       "\n",
       "  host_response_time                                 host_thumbnail_url  \\\n",
       "0     within an hour  https://a0.muscache.com/im/users/10692949/prof...   \n",
       "1                NaN  https://a0.muscache.com/im/pictures/37a4e6f0-6...   \n",
       "2     within an hour  https://a0.muscache.com/im/users/4314868/profi...   \n",
       "3                NaN  https://a0.muscache.com/im/users/9828152/profi...   \n",
       "4                NaN  https://a0.muscache.com/im/users/10962834/prof...   \n",
       "\n",
       "                                    host_picture_url    host_neighbourhood  \\\n",
       "0  https://a0.muscache.com/im/users/10692949/prof...             Kreuzberg   \n",
       "1  https://a0.muscache.com/im/pictures/37a4e6f0-6...        Friedrichshain   \n",
       "2  https://a0.muscache.com/im/users/4314868/profi...       Prenzlauer Berg   \n",
       "3  https://a0.muscache.com/im/users/9828152/profi...  Alt-Hohenschönhausen   \n",
       "4  https://a0.muscache.com/im/users/10962834/prof...                Moabit   \n",
       "\n",
       "  host_response_rate  \n",
       "0                100  \n",
       "1                NaN  \n",
       "2                 90  \n",
       "3                NaN  \n",
       "4                NaN  "
      ]
     },
     "execution_count": 166,
     "metadata": {},
     "output_type": "execute_result"
    }
   ],
   "source": [
    "hosts.set_index('host_id') #setting up index\n",
    "temp = hosts['host_response_rate'].str.replace('%','').values #create new pd.Series of new host_response_rates\n",
    "hosts = hosts.drop(['host_response_rate'], axis = 1) #remove previous column\n",
    "hosts['host_response_rate'] = temp #add new column\n",
    "del(temp)\n",
    "hosts.head()"
   ]
  },
  {
   "cell_type": "markdown",
   "metadata": {},
   "source": [
    "### changing the host_response_time with thier ids"
   ]
  },
  {
   "cell_type": "code",
   "execution_count": 167,
   "metadata": {},
   "outputs": [],
   "source": [
    "d = host_resp_time.to_dict()['host_response_time']\n",
    "inv_d = dict([[v,k] for k,v in d.items()])\n",
    "host_resp_time = hosts['host_response_time'].map(inv_d, na_action = 'ignore')"
   ]
  },
  {
   "cell_type": "code",
   "execution_count": 168,
   "metadata": {},
   "outputs": [
    {
     "data": {
      "text/html": [
       "<div>\n",
       "<style scoped>\n",
       "    .dataframe tbody tr th:only-of-type {\n",
       "        vertical-align: middle;\n",
       "    }\n",
       "\n",
       "    .dataframe tbody tr th {\n",
       "        vertical-align: top;\n",
       "    }\n",
       "\n",
       "    .dataframe thead th {\n",
       "        text-align: right;\n",
       "    }\n",
       "</style>\n",
       "<table border=\"1\" class=\"dataframe\">\n",
       "  <thead>\n",
       "    <tr style=\"text-align: right;\">\n",
       "      <th></th>\n",
       "      <th>host_id</th>\n",
       "      <th>host_url</th>\n",
       "      <th>host_name</th>\n",
       "      <th>host_since</th>\n",
       "      <th>host_about</th>\n",
       "      <th>host_thumbnail_url</th>\n",
       "      <th>host_picture_url</th>\n",
       "      <th>host_neighbourhood</th>\n",
       "      <th>host_response_rate</th>\n",
       "      <th>host_response_time</th>\n",
       "    </tr>\n",
       "  </thead>\n",
       "  <tbody>\n",
       "    <tr>\n",
       "      <th>0</th>\n",
       "      <td>10692949</td>\n",
       "      <td>https://www.airbnb.com/users/show/10692949</td>\n",
       "      <td>Suites &amp; More</td>\n",
       "      <td>2013-12-18</td>\n",
       "      <td>Like hosts we like to offer what we would like...</td>\n",
       "      <td>https://a0.muscache.com/im/users/10692949/prof...</td>\n",
       "      <td>https://a0.muscache.com/im/users/10692949/prof...</td>\n",
       "      <td>Kreuzberg</td>\n",
       "      <td>100</td>\n",
       "      <td>0</td>\n",
       "    </tr>\n",
       "    <tr>\n",
       "      <th>1</th>\n",
       "      <td>10914898</td>\n",
       "      <td>https://www.airbnb.com/users/show/10914898</td>\n",
       "      <td>Anita</td>\n",
       "      <td>2013-12-30</td>\n",
       "      <td>NaN</td>\n",
       "      <td>https://a0.muscache.com/im/pictures/37a4e6f0-6...</td>\n",
       "      <td>https://a0.muscache.com/im/pictures/37a4e6f0-6...</td>\n",
       "      <td>Friedrichshain</td>\n",
       "      <td>NaN</td>\n",
       "      <td>1</td>\n",
       "    </tr>\n",
       "    <tr>\n",
       "      <th>2</th>\n",
       "      <td>4314868</td>\n",
       "      <td>https://www.airbnb.com/users/show/4314868</td>\n",
       "      <td>Katharina</td>\n",
       "      <td>2012-12-03</td>\n",
       "      <td>Ich lebe in Berlin - im schönen Prenzlauer Ber...</td>\n",
       "      <td>https://a0.muscache.com/im/users/4314868/profi...</td>\n",
       "      <td>https://a0.muscache.com/im/users/4314868/profi...</td>\n",
       "      <td>Prenzlauer Berg</td>\n",
       "      <td>90</td>\n",
       "      <td>0</td>\n",
       "    </tr>\n",
       "    <tr>\n",
       "      <th>3</th>\n",
       "      <td>9828152</td>\n",
       "      <td>https://www.airbnb.com/users/show/9828152</td>\n",
       "      <td>Katrin</td>\n",
       "      <td>2013-11-05</td>\n",
       "      <td>Wir sind leidenschaftliche Berliner, lieben un...</td>\n",
       "      <td>https://a0.muscache.com/im/users/9828152/profi...</td>\n",
       "      <td>https://a0.muscache.com/im/users/9828152/profi...</td>\n",
       "      <td>Alt-Hohenschönhausen</td>\n",
       "      <td>NaN</td>\n",
       "      <td>1</td>\n",
       "    </tr>\n",
       "    <tr>\n",
       "      <th>4</th>\n",
       "      <td>10962834</td>\n",
       "      <td>https://www.airbnb.com/users/show/10962834</td>\n",
       "      <td>Katharina</td>\n",
       "      <td>2014-01-02</td>\n",
       "      <td>NaN</td>\n",
       "      <td>https://a0.muscache.com/im/users/10962834/prof...</td>\n",
       "      <td>https://a0.muscache.com/im/users/10962834/prof...</td>\n",
       "      <td>Moabit</td>\n",
       "      <td>NaN</td>\n",
       "      <td>1</td>\n",
       "    </tr>\n",
       "  </tbody>\n",
       "</table>\n",
       "</div>"
      ],
      "text/plain": [
       "    host_id                                    host_url      host_name  \\\n",
       "0  10692949  https://www.airbnb.com/users/show/10692949  Suites & More   \n",
       "1  10914898  https://www.airbnb.com/users/show/10914898          Anita   \n",
       "2   4314868   https://www.airbnb.com/users/show/4314868      Katharina   \n",
       "3   9828152   https://www.airbnb.com/users/show/9828152         Katrin   \n",
       "4  10962834  https://www.airbnb.com/users/show/10962834      Katharina   \n",
       "\n",
       "   host_since                                         host_about  \\\n",
       "0  2013-12-18  Like hosts we like to offer what we would like...   \n",
       "1  2013-12-30                                                NaN   \n",
       "2  2012-12-03  Ich lebe in Berlin - im schönen Prenzlauer Ber...   \n",
       "3  2013-11-05  Wir sind leidenschaftliche Berliner, lieben un...   \n",
       "4  2014-01-02                                                NaN   \n",
       "\n",
       "                                  host_thumbnail_url  \\\n",
       "0  https://a0.muscache.com/im/users/10692949/prof...   \n",
       "1  https://a0.muscache.com/im/pictures/37a4e6f0-6...   \n",
       "2  https://a0.muscache.com/im/users/4314868/profi...   \n",
       "3  https://a0.muscache.com/im/users/9828152/profi...   \n",
       "4  https://a0.muscache.com/im/users/10962834/prof...   \n",
       "\n",
       "                                    host_picture_url    host_neighbourhood  \\\n",
       "0  https://a0.muscache.com/im/users/10692949/prof...             Kreuzberg   \n",
       "1  https://a0.muscache.com/im/pictures/37a4e6f0-6...        Friedrichshain   \n",
       "2  https://a0.muscache.com/im/users/4314868/profi...       Prenzlauer Berg   \n",
       "3  https://a0.muscache.com/im/users/9828152/profi...  Alt-Hohenschönhausen   \n",
       "4  https://a0.muscache.com/im/users/10962834/prof...                Moabit   \n",
       "\n",
       "  host_response_rate  host_response_time  \n",
       "0                100                   0  \n",
       "1                NaN                   1  \n",
       "2                 90                   0  \n",
       "3                NaN                   1  \n",
       "4                NaN                   1  "
      ]
     },
     "execution_count": 168,
     "metadata": {},
     "output_type": "execute_result"
    }
   ],
   "source": [
    "hosts = hosts.drop(['host_response_time'], axis = 1)\n",
    "hosts['host_response_time'] = host_resp_time\n",
    "hosts.head()"
   ]
  },
  {
   "cell_type": "markdown",
   "metadata": {},
   "source": [
    "### changing the host_neighborhood by their ids"
   ]
  },
  {
   "cell_type": "code",
   "execution_count": 172,
   "metadata": {},
   "outputs": [
    {
     "data": {
      "text/plain": [
       "0                             Kreuzberg\n",
       "1                        Friedrichshain\n",
       "2                       Prenzlauer Berg\n",
       "3                  Alt-Hohenschönhausen\n",
       "4                                Moabit\n",
       "5                       Prenzlauer Berg\n",
       "6                             Kreuzberg\n",
       "7                            Schöneberg\n",
       "8                        Charlottenburg\n",
       "9                               Wedding\n",
       "10                       Friedrichshain\n",
       "11                            Kreuzberg\n",
       "12                            Kreuzberg\n",
       "13                                Mitte\n",
       "14                             Neukölln\n",
       "15                                Mitte\n",
       "16                           Schöneberg\n",
       "17                      Prenzlauer Berg\n",
       "18                            Tempelhof\n",
       "19                      Prenzlauer Berg\n",
       "20                              Wedding\n",
       "21                              Wedding\n",
       "22                             Neukölln\n",
       "24                               Moabit\n",
       "25                      Prenzlauer Berg\n",
       "26                                Mitte\n",
       "27                       Friedrichshain\n",
       "28                           Schöneberg\n",
       "29                      Prenzlauer Berg\n",
       "30                                Mitte\n",
       "                      ...              \n",
       "13022               Dreta de l'Eixample\n",
       "13023                          El Raval\n",
       "13024                       Sant Antoni\n",
       "13026                          El Raval\n",
       "13027                La Sagrada Família\n",
       "13029                    Vila de Gràcia\n",
       "13034                      El Poble-sec\n",
       "13035               Dreta de l'Eixample\n",
       "13046                          El Raval\n",
       "13052                 Glòries - El Parc\n",
       "13053                    La Barceloneta\n",
       "13057                    Vila de Gràcia\n",
       "13059                          El Raval\n",
       "13060                    La Barceloneta\n",
       "13061                          El Gòtic\n",
       "13065                          El Gòtic\n",
       "13070                    La Barceloneta\n",
       "13072                    La Barceloneta\n",
       "13076                    Sants-Montjuïc\n",
       "13077          Sant Pere/Santa Caterina\n",
       "13079                       Sant Antoni\n",
       "13083                           El Born\n",
       "13085                     el Fort Pienc\n",
       "13086                La Sagrada Família\n",
       "13087                          El Gòtic\n",
       "13090                          El Raval\n",
       "13091    La Nova Esquerra de l'Eixample\n",
       "13092                          El Raval\n",
       "13093               La Verneda i La Pau\n",
       "13094                             Navas\n",
       "Name: host_neighbourhood, Length: 26659, dtype: object"
      ]
     },
     "execution_count": 172,
     "metadata": {},
     "output_type": "execute_result"
    }
   ],
   "source": [
    "hosts['host_neighbourhood']"
   ]
  },
  {
   "cell_type": "markdown",
   "metadata": {},
   "source": [
    "\n",
    "### Listings locations"
   ]
  },
  {
   "cell_type": "code",
   "execution_count": null,
   "metadata": {},
   "outputs": [],
   "source": [
    "# Those are the geographical locations of the listings\n",
    "listingsB_locations = berlin_listings.iloc[:, 24:30]\n",
    "# As for descriptions, there is a one-to-one correspondance between listings and locations\n",
    "listingsB_locations['listing_id'] = berlin_listings['id']\n",
    "# note: we could add the city information to the listings so that we could separate the locations in three categories,\n",
    "#       one for each city, using inheritance\n",
    "listingsB_locations.head()"
   ]
  },
  {
   "cell_type": "markdown",
   "metadata": {},
   "source": [
    "### Properties descriptions"
   ]
  },
  {
   "cell_type": "code",
   "execution_count": null,
   "metadata": {},
   "outputs": [],
   "source": [
    "listingsB_properties = berlin_listings.iloc[:, 30:39]\n",
    "# as usual\n",
    "listingsB_properties['listing_id'] = berlin_listings['id']\n",
    "listingsB_properties.head()"
   ]
  },
  {
   "cell_type": "markdown",
   "metadata": {},
   "source": [
    "### Prices"
   ]
  },
  {
   "cell_type": "code",
   "execution_count": null,
   "metadata": {},
   "outputs": [],
   "source": [
    "listingsB_prices = berlin_listings.iloc[:, 39:48]\n",
    "# same\n",
    "listingsB_prices['listing_id'] = berlin_listings['id']\n",
    "listingsB_prices.head()"
   ]
  },
  {
   "cell_type": "markdown",
   "metadata": {},
   "source": [
    "### Review scores"
   ]
  },
  {
   "cell_type": "code",
   "execution_count": null,
   "metadata": {},
   "outputs": [],
   "source": [
    "listingsB_reviews = berlin_listings.iloc[:, 48:55]\n",
    "listingsB_reviews['listing_id'] = berlin_listings['id']\n",
    "listingsB_reviews.head()"
   ]
  },
  {
   "cell_type": "markdown",
   "metadata": {},
   "source": [
    "### Permissions"
   ]
  },
  {
   "cell_type": "code",
   "execution_count": null,
   "metadata": {},
   "outputs": [],
   "source": [
    "listingsB_permissions = berlin_listings.iloc[:, 55:]\n",
    "listingsB_permissions['listing_id'] = berlin_listings['id']\n",
    "listingsB_permissions.head()"
   ]
  },
  {
   "cell_type": "markdown",
   "metadata": {},
   "source": [
    "## Reviews"
   ]
  },
  {
   "cell_type": "code",
   "execution_count": null,
   "metadata": {},
   "outputs": [],
   "source": [
    "berlin_reviews.head()"
   ]
  },
  {
   "cell_type": "code",
   "execution_count": null,
   "metadata": {},
   "outputs": [],
   "source": [
    "duplicated_reviewers = berlin_reviews[berlin_reviews.duplicated(['reviewer_id'], keep = False)].count()[0]\n",
    "# as we can see below, there are many reviewers that made many reviews\n",
    "reviews = berlin_reviews.count()[0]\n",
    "print(\"there are {}% of the reviews that have a reviewer that reviewed at least another listing in Berlin\".format(int(duplicated_reviewers/reviews * 100)))"
   ]
  },
  {
   "cell_type": "code",
   "execution_count": null,
   "metadata": {},
   "outputs": [],
   "source": [
    "reviews"
   ]
  },
  {
   "cell_type": "code",
   "execution_count": null,
   "metadata": {},
   "outputs": [],
   "source": [
    "berlin_listings.count()[0]"
   ]
  },
  {
   "cell_type": "code",
   "execution_count": null,
   "metadata": {},
   "outputs": [],
   "source": [
    "reviews_on_diff_listings = berlin_reviews.drop_duplicates(['listing_id'], keep = 'first').sort_values('listing_id').count()[0]\n",
    "number_of_listings = listingsB.sort_values('id').count()[0]\n",
    "# note: many listings don't have a review\n",
    "print(\"{}% of the listings have a review\".format( int(reviews_on_diff_listings / number_of_listings * 100) ))"
   ]
  },
  {
   "cell_type": "code",
   "execution_count": null,
   "metadata": {},
   "outputs": [],
   "source": [
    "listings_ids = listingsB['id']\n",
    "listings_ids.count()"
   ]
  },
  {
   "cell_type": "code",
   "execution_count": null,
   "metadata": {},
   "outputs": [],
   "source": [
    "reviews_ids = berlin_reviews.drop_duplicates(['listing_id'], keep = 'first')['listing_id']\n",
    "reviews_ids.count()"
   ]
  },
  {
   "cell_type": "code",
   "execution_count": null,
   "metadata": {},
   "outputs": [],
   "source": [
    "li = listings_ids.sort_values()\n",
    "ri = reviews_ids.sort_values()\n",
    "ri[ri.isin(li)].count()\n",
    "# So every review has a listing id corresponding to a listing"
   ]
  },
  {
   "cell_type": "markdown",
   "metadata": {},
   "source": [
    "## Calendar"
   ]
  },
  {
   "cell_type": "code",
   "execution_count": null,
   "metadata": {},
   "outputs": [],
   "source": [
    "berlin_calendar[berlin_calendar.notnull()['price']].count()"
   ]
  },
  {
   "cell_type": "code",
   "execution_count": null,
   "metadata": {},
   "outputs": [],
   "source": [
    "id_cal = berlin_calendar[berlin_calendar['listing_id'] == listingsB['id'][3]]\n",
    "id_cal[first_id_cal['available'] == 't'].count()[0]\n",
    "# some listings never were available"
   ]
  },
  {
   "cell_type": "code",
   "execution_count": null,
   "metadata": {},
   "outputs": [],
   "source": [
    "# for every listing, verify if the corresponding calendar has at least one true in the list\n",
    "l = berlin_calendar.drop(['date', 'price'], axis = 1)\n",
    "available = l[l['available'] == 't'].drop_duplicates(['listing_id'], keep = 'first')\n",
    "n_av = available.count()[0]\n",
    "n_lis = listingsB.count()[0]\n",
    "print(\"there are {} over {} ({} %) listings that were available at least once in the year\"\n",
    "      .format( str(n_av), str(n_lis), str(int(n_av / n_lis * 100)) ))\n",
    "# note: we coud easily drop every listings that never was available"
   ]
  },
  {
   "cell_type": "code",
   "execution_count": null,
   "metadata": {},
   "outputs": [],
   "source": [
    "reviews_on_available_number = berlin_reviews[berlin_reviews['listing_id'].isin(available['listing_id'])].count()[0]\n",
    "reviews_number = berlin_reviews.count()[0]\n",
    "print(\"there are {} reviews on available over {} ({} %)\"\n",
    "      .format( str(reviews_on_available_number), str(reviews_number), str(int(reviews_on_available_number / reviews_number * 100))))"
   ]
  },
  {
   "cell_type": "code",
   "execution_count": null,
   "metadata": {
    "scrolled": true
   },
   "outputs": [],
   "source": [
    "berlin_reviews.info()"
   ]
  },
  {
   "cell_type": "code",
   "execution_count": null,
   "metadata": {},
   "outputs": [],
   "source": [
    "barcelona"
   ]
  }
 ],
 "metadata": {
  "kernelspec": {
   "display_name": "Python 3",
   "language": "python",
   "name": "python3"
  },
  "language_info": {
   "codemirror_mode": {
    "name": "ipython",
    "version": 3
   },
   "file_extension": ".py",
   "mimetype": "text/x-python",
   "name": "python",
   "nbconvert_exporter": "python",
   "pygments_lexer": "ipython3",
   "version": "3.7.0"
  }
 },
 "nbformat": 4,
 "nbformat_minor": 2
}
