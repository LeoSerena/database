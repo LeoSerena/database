{
 "cells": [
  {
   "cell_type": "code",
   "execution_count": 1,
   "metadata": {
    "collapsed": true
   },
   "outputs": [],
   "source": [
    "import numpy as np\n",
    "import pandas as pd"
   ]
  },
  {
   "cell_type": "markdown",
   "metadata": {},
   "source": [
    "# Importing data\n",
    "\n",
    "### Becelona Data"
   ]
  },
  {
   "cell_type": "code",
   "execution_count": 2,
   "metadata": {
    "collapsed": true
   },
   "outputs": [],
   "source": [
    "#barcelona_calendar = pd.read_csv(\"barcelona_calendar.csv\")\n",
    "barcelona_listings = pd.read_csv(\"barcelona_listings.csv\")\n",
    "#barcelona_reviews = pd.read_csv(\"barcelona_reviews.csv\")"
   ]
  },
  {
   "cell_type": "markdown",
   "metadata": {},
   "source": [
    "### Berlin Data"
   ]
  },
  {
   "cell_type": "code",
   "execution_count": 3,
   "metadata": {
    "collapsed": true
   },
   "outputs": [],
   "source": [
    "#berlin_calendar = pd.read_csv(\"berlin_calendar.csv\")\n",
    "berlin_listings = pd.read_csv(\"berlin_listings_filtered.csv\")\n",
    "#berlin_reviews = pd.read_csv(\"berlin_reviews.csv\")"
   ]
  },
  {
   "cell_type": "markdown",
   "metadata": {},
   "source": [
    "### Madrid Data"
   ]
  },
  {
   "cell_type": "code",
   "execution_count": 4,
   "metadata": {
    "collapsed": true
   },
   "outputs": [],
   "source": [
    "#madrid_calendar = pd.read_csv(\"madrid_calendar.csv\")\n",
    "madrid_listings = pd.read_csv(\"madrid_listings_filtered.csv\")\n",
    "#madrid_reviews = pd.read_csv(\"madrid_reviews.csv\")"
   ]
  },
  {
   "cell_type": "code",
   "execution_count": 7,
   "metadata": {},
   "outputs": [
    {
     "data": {
      "text/plain": [
       "'{TV,\"Cable TV\",Wifi,Kitchen,\"Free street parking\",Heating,\"Family/kid friendly\",Washer,\"Smoke detector\",\"Carbon monoxide detector\",\"First aid kit\",\"Fire extinguisher\",Essentials,Shampoo,\"Lock on bedroom door\",Hangers,\"Hair dryer\",Iron,\"Laptop friendly workspace\",\"Self check-in\",Lockbox,\"Private living room\",\"Private entrance\",\"Baby bath\",\"High chair\",\"Pack ’n Play/travel crib\",\"Room-darkening shades\",\"Hot water\",\"Bed linens\",\"Extra pillows and blankets\",\"Ethernet connection\",\"Coffee maker\",Refrigerator,Dishwasher,\"Dishes and silverware\",\"Cooking basics\",Stove,\"Single level home\",\"Patio or balcony\",\"Garden or backyard\",\"Long term stays allowed\",\"Paid parking on premises\"}'"
      ]
     },
     "execution_count": 7,
     "metadata": {},
     "output_type": "execute_result"
    }
   ],
   "source": [
    "berlin_listings['amenities'][0]"
   ]
  },
  {
   "cell_type": "markdown",
   "metadata": {},
   "source": [
    "# Data management\n",
    "## amenities\n",
    "### amenities: AMENITY; AMENITY_ID"
   ]
  },
  {
   "cell_type": "code",
   "execution_count": 11,
   "metadata": {},
   "outputs": [
    {
     "name": "stdout",
     "output_type": "stream",
     "text": [
      "['TV' 'Cable TV' 'Wifi' ..., None None None]\n"
     ]
    }
   ],
   "source": [
    "all_amenities = pd.concat([berlin_listings['amenities'], madrid_listings['amenities'], barcelona_listings['amenities']]) #concatenate all amenities\n",
    "amenities = all_amenities.str.replace('{','').str.replace('}','').str.replace('\"', '') #remove '{' , '}' and '\"' \n",
    "amenities = amenities.str.split(',', expand = True) #seperate all amenities\n",
    "a = amenities.sort_index().values #change into a np array\n",
    "a = a.ravel() #ravel into a 1D array\n",
    "print(a)\n",
    "a = a[a != None] #removes all None\n",
    "a = np.unique(a) #same as drop_duplicates\n",
    "a = a[1:] #the first one was an empty string\n",
    "amenities = pd.Series(a) #to pd\n",
    "amenities = amenities.sort_values() # those are the amenities sorted\n",
    "#note: the toilet amenity has a space at the beginning"
   ]
  },
  {
   "cell_type": "code",
   "execution_count": 9,
   "metadata": {
    "collapsed": true
   },
   "outputs": [],
   "source": [
    "amenities = pd.DataFrame(amenities).rename(index = str, columns = {0 : 'AMENITY'}) #gives amenities column a name\n",
    "amenities['AMENITY_ID'] = range(amenities['AMENITY'].count()) #create indexes for each amenity\n",
    "amenities= amenities.set_index('AMENITY_ID') #defines the created indexes as the index"
   ]
  },
  {
   "cell_type": "code",
   "execution_count": 10,
   "metadata": {},
   "outputs": [
    {
     "data": {
      "text/html": [
       "<div>\n",
       "<style>\n",
       "    .dataframe thead tr:only-child th {\n",
       "        text-align: right;\n",
       "    }\n",
       "\n",
       "    .dataframe thead th {\n",
       "        text-align: left;\n",
       "    }\n",
       "\n",
       "    .dataframe tbody tr th {\n",
       "        vertical-align: top;\n",
       "    }\n",
       "</style>\n",
       "<table border=\"1\" class=\"dataframe\">\n",
       "  <thead>\n",
       "    <tr style=\"text-align: right;\">\n",
       "      <th></th>\n",
       "      <th>AMENITY</th>\n",
       "    </tr>\n",
       "    <tr>\n",
       "      <th>AMENITY_ID</th>\n",
       "      <th></th>\n",
       "    </tr>\n",
       "  </thead>\n",
       "  <tbody>\n",
       "    <tr>\n",
       "      <th>0</th>\n",
       "      <td>toilet</td>\n",
       "    </tr>\n",
       "    <tr>\n",
       "      <th>1</th>\n",
       "      <td>24-hour check-in</td>\n",
       "    </tr>\n",
       "    <tr>\n",
       "      <th>2</th>\n",
       "      <td>Accessible-height bed</td>\n",
       "    </tr>\n",
       "    <tr>\n",
       "      <th>3</th>\n",
       "      <td>Accessible-height toilet</td>\n",
       "    </tr>\n",
       "    <tr>\n",
       "      <th>4</th>\n",
       "      <td>Air conditioning</td>\n",
       "    </tr>\n",
       "  </tbody>\n",
       "</table>\n",
       "</div>"
      ],
      "text/plain": [
       "                             AMENITY\n",
       "AMENITY_ID                          \n",
       "0                             toilet\n",
       "1                   24-hour check-in\n",
       "2              Accessible-height bed\n",
       "3           Accessible-height toilet\n",
       "4                   Air conditioning"
      ]
     },
     "execution_count": 10,
     "metadata": {},
     "output_type": "execute_result"
    }
   ],
   "source": [
    "amenities.head(5)"
   ]
  },
  {
   "cell_type": "code",
   "execution_count": 8,
   "metadata": {
    "collapsed": true
   },
   "outputs": [],
   "source": [
    "amenities.to_csv('amenities.csv')"
   ]
  },
  {
   "cell_type": "markdown",
   "metadata": {},
   "source": [
    "### amenities_AND_listings: AMENITY_ID; LISTING_ID"
   ]
  },
  {
   "cell_type": "code",
   "execution_count": 9,
   "metadata": {
    "collapsed": true
   },
   "outputs": [],
   "source": [
    "listings_and_amenities = pd.concat([berlin_listings[['id','amenities']], madrid_listings[['id','amenities']], barcelona_listings[['id','amenities']]]) #concatenate all amenities with listings_id"
   ]
  },
  {
   "cell_type": "code",
   "execution_count": 10,
   "metadata": {},
   "outputs": [
    {
     "data": {
      "text/plain": [
       "0    [159, 27, 176, 94, 69, 83, 58, 166, 148, 28, 6...\n",
       "1    [176, 94, 149, 26, 83, 166, 54, 140, 1, 77, 17...\n",
       "2    [159, 90, 176, 94, 117, 149, 26, 83, 166, 48, ...\n",
       "3    [159, 90, 176, 94, 69, 26, 83, 58, 166, 63, 60...\n",
       "4    [159, 176, 94, 69, 26, 83, 58, 148, 63, 60, 54...\n",
       "Name: amenities, dtype: object"
      ]
     },
     "execution_count": 10,
     "metadata": {},
     "output_type": "execute_result"
    }
   ],
   "source": [
    "am = listings_and_amenities['amenities'].str.replace('{','').str.replace('}','').str.replace('\"','') \n",
    "am = am.map(lambda x: np.array(x.split(','))) #list of list of amenities\n",
    "d = amenities.to_dict()['AMENITY']\n",
    "inv_d = dict([[v,k] for k,v in d.items()]) #setup the mapping from amenities to amenity_id\n",
    "am = am.map(lambda am_list : [inv_d[x] for x in am_list if len(am_list)>1]) #all lists of all amenities_id\n",
    "am.head()"
   ]
  },
  {
   "cell_type": "code",
   "execution_count": 11,
   "metadata": {},
   "outputs": [
    {
     "data": {
      "text/html": [
       "<div>\n",
       "<style scoped>\n",
       "    .dataframe tbody tr th:only-of-type {\n",
       "        vertical-align: middle;\n",
       "    }\n",
       "\n",
       "    .dataframe tbody tr th {\n",
       "        vertical-align: top;\n",
       "    }\n",
       "\n",
       "    .dataframe thead th {\n",
       "        text-align: right;\n",
       "    }\n",
       "</style>\n",
       "<table border=\"1\" class=\"dataframe\">\n",
       "  <thead>\n",
       "    <tr style=\"text-align: right;\">\n",
       "      <th></th>\n",
       "      <th>id</th>\n",
       "      <th>amenities</th>\n",
       "    </tr>\n",
       "  </thead>\n",
       "  <tbody>\n",
       "    <tr>\n",
       "      <th>0</th>\n",
       "      <td>2137277</td>\n",
       "      <td>[159, 27, 176, 94, 69, 83, 58, 166, 148, 28, 6...</td>\n",
       "    </tr>\n",
       "    <tr>\n",
       "      <th>1</th>\n",
       "      <td>2138961</td>\n",
       "      <td>[176, 94, 149, 26, 83, 166, 54, 140, 1, 77, 17...</td>\n",
       "    </tr>\n",
       "    <tr>\n",
       "      <th>2</th>\n",
       "      <td>2140695</td>\n",
       "      <td>[159, 90, 176, 94, 117, 149, 26, 83, 166, 48, ...</td>\n",
       "    </tr>\n",
       "    <tr>\n",
       "      <th>3</th>\n",
       "      <td>2147642</td>\n",
       "      <td>[159, 90, 176, 94, 69, 26, 83, 58, 166, 63, 60...</td>\n",
       "    </tr>\n",
       "    <tr>\n",
       "      <th>4</th>\n",
       "      <td>2147777</td>\n",
       "      <td>[159, 176, 94, 69, 26, 83, 58, 148, 63, 60, 54...</td>\n",
       "    </tr>\n",
       "  </tbody>\n",
       "</table>\n",
       "</div>"
      ],
      "text/plain": [
       "        id                                          amenities\n",
       "0  2137277  [159, 27, 176, 94, 69, 83, 58, 166, 148, 28, 6...\n",
       "1  2138961  [176, 94, 149, 26, 83, 166, 54, 140, 1, 77, 17...\n",
       "2  2140695  [159, 90, 176, 94, 117, 149, 26, 83, 166, 48, ...\n",
       "3  2147642  [159, 90, 176, 94, 69, 26, 83, 58, 166, 63, 60...\n",
       "4  2147777  [159, 176, 94, 69, 26, 83, 58, 148, 63, 60, 54..."
      ]
     },
     "execution_count": 11,
     "metadata": {},
     "output_type": "execute_result"
    }
   ],
   "source": [
    "listings_and_amenities.drop(['amenities'], axis = 1)\n",
    "listings_and_amenities['amenities'] = am\n",
    "listings_and_amenities.head()"
   ]
  },
  {
   "cell_type": "code",
   "execution_count": 53,
   "metadata": {},
   "outputs": [
    {
     "data": {
      "text/html": [
       "<div>\n",
       "<style scoped>\n",
       "    .dataframe tbody tr th:only-of-type {\n",
       "        vertical-align: middle;\n",
       "    }\n",
       "\n",
       "    .dataframe tbody tr th {\n",
       "        vertical-align: top;\n",
       "    }\n",
       "\n",
       "    .dataframe thead th {\n",
       "        text-align: right;\n",
       "    }\n",
       "</style>\n",
       "<table border=\"1\" class=\"dataframe\">\n",
       "  <thead>\n",
       "    <tr style=\"text-align: right;\">\n",
       "      <th></th>\n",
       "      <th>id</th>\n",
       "      <th>amenities</th>\n",
       "    </tr>\n",
       "  </thead>\n",
       "  <tbody>\n",
       "    <tr>\n",
       "      <th>0</th>\n",
       "      <td>2137277</td>\n",
       "      <td>159.0</td>\n",
       "    </tr>\n",
       "    <tr>\n",
       "      <th>1</th>\n",
       "      <td>2137277</td>\n",
       "      <td>27.0</td>\n",
       "    </tr>\n",
       "    <tr>\n",
       "      <th>2</th>\n",
       "      <td>2137277</td>\n",
       "      <td>176.0</td>\n",
       "    </tr>\n",
       "    <tr>\n",
       "      <th>3</th>\n",
       "      <td>2137277</td>\n",
       "      <td>94.0</td>\n",
       "    </tr>\n",
       "    <tr>\n",
       "      <th>4</th>\n",
       "      <td>2137277</td>\n",
       "      <td>69.0</td>\n",
       "    </tr>\n",
       "  </tbody>\n",
       "</table>\n",
       "</div>"
      ],
      "text/plain": [
       "        id  amenities\n",
       "0  2137277      159.0\n",
       "1  2137277       27.0\n",
       "2  2137277      176.0\n",
       "3  2137277       94.0\n",
       "4  2137277       69.0"
      ]
     },
     "execution_count": 53,
     "metadata": {},
     "output_type": "execute_result"
    }
   ],
   "source": [
    "pd.DataFrame(listings_and_amenities.amenities.tolist(), index=listings_and_amenities.id).stack().reset_index(level=1, drop=True).reset_index(name='amenities').head()"
   ]
  },
  {
   "cell_type": "code",
   "execution_count": 54,
   "metadata": {
    "collapsed": true
   },
   "outputs": [],
   "source": [
    "#am_lis_np = listings_and_amenities.values\n",
    "#temp = [np.column_stack((np.repeat(x[0], len(x[1])), np.array(x[1]))) for x in am_lis_np]\n",
    "#listings_and_amenities_np = np.array([])\n",
    "#for x in temp:\n",
    "#    listings_and_amenities_np = np.append(listings_and_amenities_np, x)"
   ]
  },
  {
   "cell_type": "code",
   "execution_count": 57,
   "metadata": {
    "collapsed": true
   },
   "outputs": [],
   "source": [
    "#listings_and_amenities_np = listings_and_amenities_np.reshape(int(listings_and_amenities_np.shape[0]/2), 2)"
   ]
  },
  {
   "cell_type": "code",
   "execution_count": 58,
   "metadata": {
    "collapsed": true
   },
   "outputs": [],
   "source": [
    "#listings_and_amenities_np = listings_and_amenities_np.astype('int64')"
   ]
  },
  {
   "cell_type": "code",
   "execution_count": 58,
   "metadata": {},
   "outputs": [
    {
     "data": {
      "text/html": [
       "<div>\n",
       "<style scoped>\n",
       "    .dataframe tbody tr th:only-of-type {\n",
       "        vertical-align: middle;\n",
       "    }\n",
       "\n",
       "    .dataframe tbody tr th {\n",
       "        vertical-align: top;\n",
       "    }\n",
       "\n",
       "    .dataframe thead th {\n",
       "        text-align: right;\n",
       "    }\n",
       "</style>\n",
       "<table border=\"1\" class=\"dataframe\">\n",
       "  <thead>\n",
       "    <tr style=\"text-align: right;\">\n",
       "      <th></th>\n",
       "      <th>LISTING_ID</th>\n",
       "      <th>AMENITY_ID</th>\n",
       "    </tr>\n",
       "  </thead>\n",
       "  <tbody>\n",
       "    <tr>\n",
       "      <th>0</th>\n",
       "      <td>2137277</td>\n",
       "      <td>159</td>\n",
       "    </tr>\n",
       "    <tr>\n",
       "      <th>1</th>\n",
       "      <td>2137277</td>\n",
       "      <td>27</td>\n",
       "    </tr>\n",
       "    <tr>\n",
       "      <th>2</th>\n",
       "      <td>2137277</td>\n",
       "      <td>176</td>\n",
       "    </tr>\n",
       "    <tr>\n",
       "      <th>3</th>\n",
       "      <td>2137277</td>\n",
       "      <td>94</td>\n",
       "    </tr>\n",
       "    <tr>\n",
       "      <th>4</th>\n",
       "      <td>2137277</td>\n",
       "      <td>69</td>\n",
       "    </tr>\n",
       "  </tbody>\n",
       "</table>\n",
       "</div>"
      ],
      "text/plain": [
       "   LISTING_ID  AMENITY_ID\n",
       "0     2137277         159\n",
       "1     2137277          27\n",
       "2     2137277         176\n",
       "3     2137277          94\n",
       "4     2137277          69"
      ]
     },
     "execution_count": 58,
     "metadata": {},
     "output_type": "execute_result"
    }
   ],
   "source": [
    "#listings_and_amenities = pd.DataFrame({'LISTING_ID': listings_and_amenities_np[:,0], 'AMENITY_ID': listings_and_amenities_np[:,1]})\n",
    "#listings_and_amenities.head()"
   ]
  },
  {
   "cell_type": "code",
   "execution_count": 59,
   "metadata": {
    "collapsed": true
   },
   "outputs": [],
   "source": [
    "listings_and_amenities.to_csv('amenities_AND_listings.csv', index = False)"
   ]
  },
  {
   "cell_type": "markdown",
   "metadata": {},
   "source": [
    "## Hosts"
   ]
  },
  {
   "cell_type": "markdown",
   "metadata": {},
   "source": [
    "### host_response_time: HOST_RESPONSE_TIME_ID; HOST_RESPONSE_TIME"
   ]
  },
  {
   "cell_type": "code",
   "execution_count": 235,
   "metadata": {
    "collapsed": true
   },
   "outputs": [],
   "source": [
    "# Those are all the hosts of all the different listings\n",
    "listingsB_hosts = berlin_listings.iloc[:, 13:24]\n",
    "listingsM_hosts = madrid_listings.iloc[:, 13:24]\n",
    "listingsBa_hosts = barcelona_listings.iloc[:, 13:24]\n",
    "# We concatenate hosts from all cities\n",
    "listings_hosts = pd.concat([listingsB_hosts, listingsM_hosts, listingsBa_hosts])\n",
    "# we remove host duplicates since a host can have several listings.\n",
    "hosts = listings_hosts.drop_duplicates(subset = 'host_id', keep = 'first')"
   ]
  },
  {
   "cell_type": "code",
   "execution_count": 236,
   "metadata": {},
   "outputs": [
    {
     "data": {
      "text/html": [
       "<div>\n",
       "<style scoped>\n",
       "    .dataframe tbody tr th:only-of-type {\n",
       "        vertical-align: middle;\n",
       "    }\n",
       "\n",
       "    .dataframe tbody tr th {\n",
       "        vertical-align: top;\n",
       "    }\n",
       "\n",
       "    .dataframe thead th {\n",
       "        text-align: right;\n",
       "    }\n",
       "</style>\n",
       "<table border=\"1\" class=\"dataframe\">\n",
       "  <thead>\n",
       "    <tr style=\"text-align: right;\">\n",
       "      <th></th>\n",
       "      <th>host_response_time</th>\n",
       "    </tr>\n",
       "    <tr>\n",
       "      <th>host_response_time_id</th>\n",
       "      <th></th>\n",
       "    </tr>\n",
       "  </thead>\n",
       "  <tbody>\n",
       "    <tr>\n",
       "      <th>0</th>\n",
       "      <td>within an hour</td>\n",
       "    </tr>\n",
       "    <tr>\n",
       "      <th>1</th>\n",
       "      <td>NaN</td>\n",
       "    </tr>\n",
       "    <tr>\n",
       "      <th>2</th>\n",
       "      <td>within a day</td>\n",
       "    </tr>\n",
       "    <tr>\n",
       "      <th>3</th>\n",
       "      <td>within a few hours</td>\n",
       "    </tr>\n",
       "    <tr>\n",
       "      <th>4</th>\n",
       "      <td>a few days or more</td>\n",
       "    </tr>\n",
       "  </tbody>\n",
       "</table>\n",
       "</div>"
      ],
      "text/plain": [
       "                       host_response_time\n",
       "host_response_time_id                    \n",
       "0                          within an hour\n",
       "1                                     NaN\n",
       "2                            within a day\n",
       "3                      within a few hours\n",
       "4                      a few days or more"
      ]
     },
     "execution_count": 236,
     "metadata": {},
     "output_type": "execute_result"
    }
   ],
   "source": [
    "host_resp_time = pd.DataFrame(hosts['host_response_time'].drop_duplicates(keep = 'first')) #filters the host_response_time\n",
    "host_resp_time['host_response_time_id'] = range(host_resp_time['host_response_time'].count()+1) #creates indexes\n",
    "host_resp_time = host_resp_time.set_index('host_response_time_id') #set new indexes\n",
    "host_resp_time.head()"
   ]
  },
  {
   "cell_type": "code",
   "execution_count": 237,
   "metadata": {
    "collapsed": true
   },
   "outputs": [],
   "source": [
    "host_resp_time.to_csv('host_response_time.csv')"
   ]
  },
  {
   "cell_type": "markdown",
   "metadata": {},
   "source": [
    "### host_verifications: HOST_VERIFICATION; HOST_VERIFICATION_ID"
   ]
  },
  {
   "cell_type": "code",
   "execution_count": 238,
   "metadata": {},
   "outputs": [
    {
     "data": {
      "text/plain": [
       "array([' facebook', ' google', ' government_id', ' identity_manual',\n",
       "       ' jumio', ' kba', ' manual_offline', ' manual_online',\n",
       "       ' offline_government_id', ' phone', ' photographer', ' reviews',\n",
       "       ' selfie', ' sent_id', ' sesame', ' sesame_offline', ' weibo',\n",
       "       ' work_email', ' zhima_selfie', 'email', 'facebook',\n",
       "       'identity_manual', 'jumio', 'phone', 'reviews'], dtype='<U22')"
      ]
     },
     "execution_count": 238,
     "metadata": {},
     "output_type": "execute_result"
    }
   ],
   "source": [
    "hosts_verifications = hosts['host_verifications'].str.replace('[','').str.replace(']','').str.replace(\"'\",'').str.split(',',expand = True)\n",
    "hosts_verifications = hosts_verifications.values.flatten()\n",
    "hosts_verifications = hosts_verifications[hosts_verifications != None]\n",
    "hosts_verifications = np.unique(hosts_verifications)[1:].astype('str')\n",
    "hosts_verifications"
   ]
  },
  {
   "cell_type": "code",
   "execution_count": 239,
   "metadata": {},
   "outputs": [
    {
     "data": {
      "text/html": [
       "<div>\n",
       "<style scoped>\n",
       "    .dataframe tbody tr th:only-of-type {\n",
       "        vertical-align: middle;\n",
       "    }\n",
       "\n",
       "    .dataframe tbody tr th {\n",
       "        vertical-align: top;\n",
       "    }\n",
       "\n",
       "    .dataframe thead th {\n",
       "        text-align: right;\n",
       "    }\n",
       "</style>\n",
       "<table border=\"1\" class=\"dataframe\">\n",
       "  <thead>\n",
       "    <tr style=\"text-align: right;\">\n",
       "      <th></th>\n",
       "      <th>HOST_VERIFICATION</th>\n",
       "    </tr>\n",
       "    <tr>\n",
       "      <th>HOST_VERIFICATION_ID</th>\n",
       "      <th></th>\n",
       "    </tr>\n",
       "  </thead>\n",
       "  <tbody>\n",
       "    <tr>\n",
       "      <th>0</th>\n",
       "      <td>facebook</td>\n",
       "    </tr>\n",
       "    <tr>\n",
       "      <th>1</th>\n",
       "      <td>google</td>\n",
       "    </tr>\n",
       "    <tr>\n",
       "      <th>2</th>\n",
       "      <td>government_id</td>\n",
       "    </tr>\n",
       "    <tr>\n",
       "      <th>3</th>\n",
       "      <td>identity_manual</td>\n",
       "    </tr>\n",
       "    <tr>\n",
       "      <th>4</th>\n",
       "      <td>jumio</td>\n",
       "    </tr>\n",
       "  </tbody>\n",
       "</table>\n",
       "</div>"
      ],
      "text/plain": [
       "                     HOST_VERIFICATION\n",
       "HOST_VERIFICATION_ID                  \n",
       "0                             facebook\n",
       "1                               google\n",
       "2                        government_id\n",
       "3                      identity_manual\n",
       "4                                jumio"
      ]
     },
     "execution_count": 239,
     "metadata": {},
     "output_type": "execute_result"
    }
   ],
   "source": [
    "verifications = pd.DataFrame({'HOST_VERIFICATION' : hosts_verifications, 'HOST_VERIFICATION_ID' : np.arange(hosts_verifications.shape[0])})\n",
    "verifications = verifications.set_index('HOST_VERIFICATION_ID')\n",
    "verifications.head()"
   ]
  },
  {
   "cell_type": "code",
   "execution_count": 252,
   "metadata": {
    "collapsed": true
   },
   "outputs": [],
   "source": [
    "verifications.to_csv('host_verifications.csv', encoding = 'utf-8')"
   ]
  },
  {
   "cell_type": "markdown",
   "metadata": {},
   "source": [
    "## hosts"
   ]
  },
  {
   "cell_type": "code",
   "execution_count": 241,
   "metadata": {},
   "outputs": [
    {
     "data": {
      "text/html": [
       "<div>\n",
       "<style scoped>\n",
       "    .dataframe tbody tr th:only-of-type {\n",
       "        vertical-align: middle;\n",
       "    }\n",
       "\n",
       "    .dataframe tbody tr th {\n",
       "        vertical-align: top;\n",
       "    }\n",
       "\n",
       "    .dataframe thead th {\n",
       "        text-align: right;\n",
       "    }\n",
       "</style>\n",
       "<table border=\"1\" class=\"dataframe\">\n",
       "  <thead>\n",
       "    <tr style=\"text-align: right;\">\n",
       "      <th></th>\n",
       "      <th>host_url</th>\n",
       "      <th>host_name</th>\n",
       "      <th>host_since</th>\n",
       "      <th>host_about</th>\n",
       "      <th>host_response_time</th>\n",
       "      <th>host_thumbnail_url</th>\n",
       "      <th>host_picture_url</th>\n",
       "      <th>host_neighbourhood</th>\n",
       "      <th>host_response_rate</th>\n",
       "    </tr>\n",
       "    <tr>\n",
       "      <th>host_id</th>\n",
       "      <th></th>\n",
       "      <th></th>\n",
       "      <th></th>\n",
       "      <th></th>\n",
       "      <th></th>\n",
       "      <th></th>\n",
       "      <th></th>\n",
       "      <th></th>\n",
       "      <th></th>\n",
       "    </tr>\n",
       "  </thead>\n",
       "  <tbody>\n",
       "    <tr>\n",
       "      <th>10692949</th>\n",
       "      <td>https://www.airbnb.com/users/show/10692949</td>\n",
       "      <td>Suites &amp; More</td>\n",
       "      <td>2013-12-18</td>\n",
       "      <td>Like hosts we like to offer what we would like...</td>\n",
       "      <td>within an hour</td>\n",
       "      <td>https://a0.muscache.com/im/users/10692949/prof...</td>\n",
       "      <td>https://a0.muscache.com/im/users/10692949/prof...</td>\n",
       "      <td>Kreuzberg</td>\n",
       "      <td>100</td>\n",
       "    </tr>\n",
       "    <tr>\n",
       "      <th>10914898</th>\n",
       "      <td>https://www.airbnb.com/users/show/10914898</td>\n",
       "      <td>Anita</td>\n",
       "      <td>2013-12-30</td>\n",
       "      <td>NaN</td>\n",
       "      <td>NaN</td>\n",
       "      <td>https://a0.muscache.com/im/pictures/37a4e6f0-6...</td>\n",
       "      <td>https://a0.muscache.com/im/pictures/37a4e6f0-6...</td>\n",
       "      <td>Friedrichshain</td>\n",
       "      <td>NaN</td>\n",
       "    </tr>\n",
       "    <tr>\n",
       "      <th>4314868</th>\n",
       "      <td>https://www.airbnb.com/users/show/4314868</td>\n",
       "      <td>Katharina</td>\n",
       "      <td>2012-12-03</td>\n",
       "      <td>Ich lebe in Berlin - im schönen Prenzlauer Ber...</td>\n",
       "      <td>within an hour</td>\n",
       "      <td>https://a0.muscache.com/im/users/4314868/profi...</td>\n",
       "      <td>https://a0.muscache.com/im/users/4314868/profi...</td>\n",
       "      <td>Prenzlauer Berg</td>\n",
       "      <td>90</td>\n",
       "    </tr>\n",
       "    <tr>\n",
       "      <th>9828152</th>\n",
       "      <td>https://www.airbnb.com/users/show/9828152</td>\n",
       "      <td>Katrin</td>\n",
       "      <td>2013-11-05</td>\n",
       "      <td>Wir sind leidenschaftliche Berliner, lieben un...</td>\n",
       "      <td>NaN</td>\n",
       "      <td>https://a0.muscache.com/im/users/9828152/profi...</td>\n",
       "      <td>https://a0.muscache.com/im/users/9828152/profi...</td>\n",
       "      <td>Alt-Hohenschönhausen</td>\n",
       "      <td>NaN</td>\n",
       "    </tr>\n",
       "    <tr>\n",
       "      <th>10962834</th>\n",
       "      <td>https://www.airbnb.com/users/show/10962834</td>\n",
       "      <td>Katharina</td>\n",
       "      <td>2014-01-02</td>\n",
       "      <td>NaN</td>\n",
       "      <td>NaN</td>\n",
       "      <td>https://a0.muscache.com/im/users/10962834/prof...</td>\n",
       "      <td>https://a0.muscache.com/im/users/10962834/prof...</td>\n",
       "      <td>Moabit</td>\n",
       "      <td>NaN</td>\n",
       "    </tr>\n",
       "  </tbody>\n",
       "</table>\n",
       "</div>"
      ],
      "text/plain": [
       "                                            host_url      host_name  \\\n",
       "host_id                                                               \n",
       "10692949  https://www.airbnb.com/users/show/10692949  Suites & More   \n",
       "10914898  https://www.airbnb.com/users/show/10914898          Anita   \n",
       "4314868    https://www.airbnb.com/users/show/4314868      Katharina   \n",
       "9828152    https://www.airbnb.com/users/show/9828152         Katrin   \n",
       "10962834  https://www.airbnb.com/users/show/10962834      Katharina   \n",
       "\n",
       "          host_since                                         host_about  \\\n",
       "host_id                                                                   \n",
       "10692949  2013-12-18  Like hosts we like to offer what we would like...   \n",
       "10914898  2013-12-30                                                NaN   \n",
       "4314868   2012-12-03  Ich lebe in Berlin - im schönen Prenzlauer Ber...   \n",
       "9828152   2013-11-05  Wir sind leidenschaftliche Berliner, lieben un...   \n",
       "10962834  2014-01-02                                                NaN   \n",
       "\n",
       "         host_response_time  \\\n",
       "host_id                       \n",
       "10692949     within an hour   \n",
       "10914898                NaN   \n",
       "4314868      within an hour   \n",
       "9828152                 NaN   \n",
       "10962834                NaN   \n",
       "\n",
       "                                         host_thumbnail_url  \\\n",
       "host_id                                                       \n",
       "10692949  https://a0.muscache.com/im/users/10692949/prof...   \n",
       "10914898  https://a0.muscache.com/im/pictures/37a4e6f0-6...   \n",
       "4314868   https://a0.muscache.com/im/users/4314868/profi...   \n",
       "9828152   https://a0.muscache.com/im/users/9828152/profi...   \n",
       "10962834  https://a0.muscache.com/im/users/10962834/prof...   \n",
       "\n",
       "                                           host_picture_url  \\\n",
       "host_id                                                       \n",
       "10692949  https://a0.muscache.com/im/users/10692949/prof...   \n",
       "10914898  https://a0.muscache.com/im/pictures/37a4e6f0-6...   \n",
       "4314868   https://a0.muscache.com/im/users/4314868/profi...   \n",
       "9828152   https://a0.muscache.com/im/users/9828152/profi...   \n",
       "10962834  https://a0.muscache.com/im/users/10962834/prof...   \n",
       "\n",
       "            host_neighbourhood host_response_rate  \n",
       "host_id                                            \n",
       "10692949             Kreuzberg                100  \n",
       "10914898        Friedrichshain                NaN  \n",
       "4314868        Prenzlauer Berg                 90  \n",
       "9828152   Alt-Hohenschönhausen                NaN  \n",
       "10962834                Moabit                NaN  "
      ]
     },
     "execution_count": 241,
     "metadata": {},
     "output_type": "execute_result"
    }
   ],
   "source": [
    "hosts = hosts.set_index('host_id') #setting up index\n",
    "hosts = hosts.drop(['host_verifications'], axis = 1)\n",
    "temp = hosts['host_response_rate'].str.replace('%','').values #create new pd.Series of new host_response_rates\n",
    "hosts = hosts.drop(['host_response_rate'], axis = 1) #remove previous column\n",
    "hosts['host_response_rate'] = temp #add new column\n",
    "del(temp)\n",
    "hosts.head()"
   ]
  },
  {
   "cell_type": "markdown",
   "metadata": {},
   "source": [
    "### changing the host_response_time with thier ids"
   ]
  },
  {
   "cell_type": "code",
   "execution_count": 242,
   "metadata": {
    "collapsed": true
   },
   "outputs": [],
   "source": [
    "d = host_resp_time.to_dict()['host_response_time']\n",
    "inv_d = dict([[v,k] for k,v in d.items()])\n",
    "host_resp_time = hosts['host_response_time'].map(inv_d, na_action = 'ignore')"
   ]
  },
  {
   "cell_type": "code",
   "execution_count": 243,
   "metadata": {},
   "outputs": [
    {
     "data": {
      "text/html": [
       "<div>\n",
       "<style scoped>\n",
       "    .dataframe tbody tr th:only-of-type {\n",
       "        vertical-align: middle;\n",
       "    }\n",
       "\n",
       "    .dataframe tbody tr th {\n",
       "        vertical-align: top;\n",
       "    }\n",
       "\n",
       "    .dataframe thead th {\n",
       "        text-align: right;\n",
       "    }\n",
       "</style>\n",
       "<table border=\"1\" class=\"dataframe\">\n",
       "  <thead>\n",
       "    <tr style=\"text-align: right;\">\n",
       "      <th></th>\n",
       "      <th>host_url</th>\n",
       "      <th>host_name</th>\n",
       "      <th>host_since</th>\n",
       "      <th>host_about</th>\n",
       "      <th>host_thumbnail_url</th>\n",
       "      <th>host_picture_url</th>\n",
       "      <th>host_neighbourhood</th>\n",
       "      <th>host_response_rate</th>\n",
       "      <th>host_response_time_id</th>\n",
       "    </tr>\n",
       "    <tr>\n",
       "      <th>host_id</th>\n",
       "      <th></th>\n",
       "      <th></th>\n",
       "      <th></th>\n",
       "      <th></th>\n",
       "      <th></th>\n",
       "      <th></th>\n",
       "      <th></th>\n",
       "      <th></th>\n",
       "      <th></th>\n",
       "    </tr>\n",
       "  </thead>\n",
       "  <tbody>\n",
       "    <tr>\n",
       "      <th>10692949</th>\n",
       "      <td>https://www.airbnb.com/users/show/10692949</td>\n",
       "      <td>Suites &amp; More</td>\n",
       "      <td>2013-12-18</td>\n",
       "      <td>Like hosts we like to offer what we would like...</td>\n",
       "      <td>https://a0.muscache.com/im/users/10692949/prof...</td>\n",
       "      <td>https://a0.muscache.com/im/users/10692949/prof...</td>\n",
       "      <td>Kreuzberg</td>\n",
       "      <td>100</td>\n",
       "      <td>0</td>\n",
       "    </tr>\n",
       "    <tr>\n",
       "      <th>10914898</th>\n",
       "      <td>https://www.airbnb.com/users/show/10914898</td>\n",
       "      <td>Anita</td>\n",
       "      <td>2013-12-30</td>\n",
       "      <td>NaN</td>\n",
       "      <td>https://a0.muscache.com/im/pictures/37a4e6f0-6...</td>\n",
       "      <td>https://a0.muscache.com/im/pictures/37a4e6f0-6...</td>\n",
       "      <td>Friedrichshain</td>\n",
       "      <td>NaN</td>\n",
       "      <td>1</td>\n",
       "    </tr>\n",
       "    <tr>\n",
       "      <th>4314868</th>\n",
       "      <td>https://www.airbnb.com/users/show/4314868</td>\n",
       "      <td>Katharina</td>\n",
       "      <td>2012-12-03</td>\n",
       "      <td>Ich lebe in Berlin - im schönen Prenzlauer Ber...</td>\n",
       "      <td>https://a0.muscache.com/im/users/4314868/profi...</td>\n",
       "      <td>https://a0.muscache.com/im/users/4314868/profi...</td>\n",
       "      <td>Prenzlauer Berg</td>\n",
       "      <td>90</td>\n",
       "      <td>0</td>\n",
       "    </tr>\n",
       "    <tr>\n",
       "      <th>9828152</th>\n",
       "      <td>https://www.airbnb.com/users/show/9828152</td>\n",
       "      <td>Katrin</td>\n",
       "      <td>2013-11-05</td>\n",
       "      <td>Wir sind leidenschaftliche Berliner, lieben un...</td>\n",
       "      <td>https://a0.muscache.com/im/users/9828152/profi...</td>\n",
       "      <td>https://a0.muscache.com/im/users/9828152/profi...</td>\n",
       "      <td>Alt-Hohenschönhausen</td>\n",
       "      <td>NaN</td>\n",
       "      <td>1</td>\n",
       "    </tr>\n",
       "    <tr>\n",
       "      <th>10962834</th>\n",
       "      <td>https://www.airbnb.com/users/show/10962834</td>\n",
       "      <td>Katharina</td>\n",
       "      <td>2014-01-02</td>\n",
       "      <td>NaN</td>\n",
       "      <td>https://a0.muscache.com/im/users/10962834/prof...</td>\n",
       "      <td>https://a0.muscache.com/im/users/10962834/prof...</td>\n",
       "      <td>Moabit</td>\n",
       "      <td>NaN</td>\n",
       "      <td>1</td>\n",
       "    </tr>\n",
       "  </tbody>\n",
       "</table>\n",
       "</div>"
      ],
      "text/plain": [
       "                                            host_url      host_name  \\\n",
       "host_id                                                               \n",
       "10692949  https://www.airbnb.com/users/show/10692949  Suites & More   \n",
       "10914898  https://www.airbnb.com/users/show/10914898          Anita   \n",
       "4314868    https://www.airbnb.com/users/show/4314868      Katharina   \n",
       "9828152    https://www.airbnb.com/users/show/9828152         Katrin   \n",
       "10962834  https://www.airbnb.com/users/show/10962834      Katharina   \n",
       "\n",
       "          host_since                                         host_about  \\\n",
       "host_id                                                                   \n",
       "10692949  2013-12-18  Like hosts we like to offer what we would like...   \n",
       "10914898  2013-12-30                                                NaN   \n",
       "4314868   2012-12-03  Ich lebe in Berlin - im schönen Prenzlauer Ber...   \n",
       "9828152   2013-11-05  Wir sind leidenschaftliche Berliner, lieben un...   \n",
       "10962834  2014-01-02                                                NaN   \n",
       "\n",
       "                                         host_thumbnail_url  \\\n",
       "host_id                                                       \n",
       "10692949  https://a0.muscache.com/im/users/10692949/prof...   \n",
       "10914898  https://a0.muscache.com/im/pictures/37a4e6f0-6...   \n",
       "4314868   https://a0.muscache.com/im/users/4314868/profi...   \n",
       "9828152   https://a0.muscache.com/im/users/9828152/profi...   \n",
       "10962834  https://a0.muscache.com/im/users/10962834/prof...   \n",
       "\n",
       "                                           host_picture_url  \\\n",
       "host_id                                                       \n",
       "10692949  https://a0.muscache.com/im/users/10692949/prof...   \n",
       "10914898  https://a0.muscache.com/im/pictures/37a4e6f0-6...   \n",
       "4314868   https://a0.muscache.com/im/users/4314868/profi...   \n",
       "9828152   https://a0.muscache.com/im/users/9828152/profi...   \n",
       "10962834  https://a0.muscache.com/im/users/10962834/prof...   \n",
       "\n",
       "            host_neighbourhood host_response_rate  host_response_time_id  \n",
       "host_id                                                                   \n",
       "10692949             Kreuzberg                100                      0  \n",
       "10914898        Friedrichshain                NaN                      1  \n",
       "4314868        Prenzlauer Berg                 90                      0  \n",
       "9828152   Alt-Hohenschönhausen                NaN                      1  \n",
       "10962834                Moabit                NaN                      1  "
      ]
     },
     "execution_count": 243,
     "metadata": {},
     "output_type": "execute_result"
    }
   ],
   "source": [
    "hosts = hosts.drop(['host_response_time'], axis = 1)\n",
    "hosts['host_response_time_id'] = host_resp_time\n",
    "hosts.head()"
   ]
  },
  {
   "cell_type": "markdown",
   "metadata": {},
   "source": [
    "### changing the host_neighborhood by their ids"
   ]
  },
  {
   "cell_type": "code",
   "execution_count": 244,
   "metadata": {},
   "outputs": [
    {
     "data": {
      "text/plain": [
       "host_id\n",
       "10692949    154\n",
       "10914898    155\n",
       "4314868     156\n",
       "9828152     157\n",
       "10962834    158\n",
       "Name: host_neighbourhood, dtype: int64"
      ]
     },
     "execution_count": 244,
     "metadata": {},
     "output_type": "execute_result"
    }
   ],
   "source": [
    "di = pd.read_csv('neighbourhood.csv', encoding = 'utf-8')['NEIGH'].to_dict()\n",
    "#creates a maping like before, need to reverse it:\n",
    "inv_di = dict([[v,k] for k,v in di.items()])\n",
    "hosts_neigh_id = hosts['host_neighbourhood'].map(inv_di)\n",
    "hosts_neigh_id[:5]"
   ]
  },
  {
   "cell_type": "code",
   "execution_count": 245,
   "metadata": {},
   "outputs": [
    {
     "data": {
      "text/html": [
       "<div>\n",
       "<style scoped>\n",
       "    .dataframe tbody tr th:only-of-type {\n",
       "        vertical-align: middle;\n",
       "    }\n",
       "\n",
       "    .dataframe tbody tr th {\n",
       "        vertical-align: top;\n",
       "    }\n",
       "\n",
       "    .dataframe thead th {\n",
       "        text-align: right;\n",
       "    }\n",
       "</style>\n",
       "<table border=\"1\" class=\"dataframe\">\n",
       "  <thead>\n",
       "    <tr style=\"text-align: right;\">\n",
       "      <th></th>\n",
       "      <th>host_url</th>\n",
       "      <th>host_name</th>\n",
       "      <th>host_since</th>\n",
       "      <th>host_about</th>\n",
       "      <th>host_thumbnail_url</th>\n",
       "      <th>host_picture_url</th>\n",
       "      <th>host_response_rate</th>\n",
       "      <th>host_response_time_id</th>\n",
       "      <th>neigh_id</th>\n",
       "    </tr>\n",
       "    <tr>\n",
       "      <th>host_id</th>\n",
       "      <th></th>\n",
       "      <th></th>\n",
       "      <th></th>\n",
       "      <th></th>\n",
       "      <th></th>\n",
       "      <th></th>\n",
       "      <th></th>\n",
       "      <th></th>\n",
       "      <th></th>\n",
       "    </tr>\n",
       "  </thead>\n",
       "  <tbody>\n",
       "    <tr>\n",
       "      <th>10692949</th>\n",
       "      <td>https://www.airbnb.com/users/show/10692949</td>\n",
       "      <td>Suites &amp; More</td>\n",
       "      <td>2013-12-18</td>\n",
       "      <td>Like hosts we like to offer what we would like...</td>\n",
       "      <td>https://a0.muscache.com/im/users/10692949/prof...</td>\n",
       "      <td>https://a0.muscache.com/im/users/10692949/prof...</td>\n",
       "      <td>100</td>\n",
       "      <td>0</td>\n",
       "      <td>154</td>\n",
       "    </tr>\n",
       "    <tr>\n",
       "      <th>10914898</th>\n",
       "      <td>https://www.airbnb.com/users/show/10914898</td>\n",
       "      <td>Anita</td>\n",
       "      <td>2013-12-30</td>\n",
       "      <td>NaN</td>\n",
       "      <td>https://a0.muscache.com/im/pictures/37a4e6f0-6...</td>\n",
       "      <td>https://a0.muscache.com/im/pictures/37a4e6f0-6...</td>\n",
       "      <td>NaN</td>\n",
       "      <td>1</td>\n",
       "      <td>155</td>\n",
       "    </tr>\n",
       "    <tr>\n",
       "      <th>4314868</th>\n",
       "      <td>https://www.airbnb.com/users/show/4314868</td>\n",
       "      <td>Katharina</td>\n",
       "      <td>2012-12-03</td>\n",
       "      <td>Ich lebe in Berlin - im schönen Prenzlauer Ber...</td>\n",
       "      <td>https://a0.muscache.com/im/users/4314868/profi...</td>\n",
       "      <td>https://a0.muscache.com/im/users/4314868/profi...</td>\n",
       "      <td>90</td>\n",
       "      <td>0</td>\n",
       "      <td>156</td>\n",
       "    </tr>\n",
       "    <tr>\n",
       "      <th>9828152</th>\n",
       "      <td>https://www.airbnb.com/users/show/9828152</td>\n",
       "      <td>Katrin</td>\n",
       "      <td>2013-11-05</td>\n",
       "      <td>Wir sind leidenschaftliche Berliner, lieben un...</td>\n",
       "      <td>https://a0.muscache.com/im/users/9828152/profi...</td>\n",
       "      <td>https://a0.muscache.com/im/users/9828152/profi...</td>\n",
       "      <td>NaN</td>\n",
       "      <td>1</td>\n",
       "      <td>157</td>\n",
       "    </tr>\n",
       "    <tr>\n",
       "      <th>10962834</th>\n",
       "      <td>https://www.airbnb.com/users/show/10962834</td>\n",
       "      <td>Katharina</td>\n",
       "      <td>2014-01-02</td>\n",
       "      <td>NaN</td>\n",
       "      <td>https://a0.muscache.com/im/users/10962834/prof...</td>\n",
       "      <td>https://a0.muscache.com/im/users/10962834/prof...</td>\n",
       "      <td>NaN</td>\n",
       "      <td>1</td>\n",
       "      <td>158</td>\n",
       "    </tr>\n",
       "  </tbody>\n",
       "</table>\n",
       "</div>"
      ],
      "text/plain": [
       "                                            host_url      host_name  \\\n",
       "host_id                                                               \n",
       "10692949  https://www.airbnb.com/users/show/10692949  Suites & More   \n",
       "10914898  https://www.airbnb.com/users/show/10914898          Anita   \n",
       "4314868    https://www.airbnb.com/users/show/4314868      Katharina   \n",
       "9828152    https://www.airbnb.com/users/show/9828152         Katrin   \n",
       "10962834  https://www.airbnb.com/users/show/10962834      Katharina   \n",
       "\n",
       "          host_since                                         host_about  \\\n",
       "host_id                                                                   \n",
       "10692949  2013-12-18  Like hosts we like to offer what we would like...   \n",
       "10914898  2013-12-30                                                NaN   \n",
       "4314868   2012-12-03  Ich lebe in Berlin - im schönen Prenzlauer Ber...   \n",
       "9828152   2013-11-05  Wir sind leidenschaftliche Berliner, lieben un...   \n",
       "10962834  2014-01-02                                                NaN   \n",
       "\n",
       "                                         host_thumbnail_url  \\\n",
       "host_id                                                       \n",
       "10692949  https://a0.muscache.com/im/users/10692949/prof...   \n",
       "10914898  https://a0.muscache.com/im/pictures/37a4e6f0-6...   \n",
       "4314868   https://a0.muscache.com/im/users/4314868/profi...   \n",
       "9828152   https://a0.muscache.com/im/users/9828152/profi...   \n",
       "10962834  https://a0.muscache.com/im/users/10962834/prof...   \n",
       "\n",
       "                                           host_picture_url  \\\n",
       "host_id                                                       \n",
       "10692949  https://a0.muscache.com/im/users/10692949/prof...   \n",
       "10914898  https://a0.muscache.com/im/pictures/37a4e6f0-6...   \n",
       "4314868   https://a0.muscache.com/im/users/4314868/profi...   \n",
       "9828152   https://a0.muscache.com/im/users/9828152/profi...   \n",
       "10962834  https://a0.muscache.com/im/users/10962834/prof...   \n",
       "\n",
       "         host_response_rate  host_response_time_id  neigh_id  \n",
       "host_id                                                       \n",
       "10692949                100                      0       154  \n",
       "10914898                NaN                      1       155  \n",
       "4314868                  90                      0       156  \n",
       "9828152                 NaN                      1       157  \n",
       "10962834                NaN                      1       158  "
      ]
     },
     "execution_count": 245,
     "metadata": {},
     "output_type": "execute_result"
    }
   ],
   "source": [
    "hosts = hosts.drop(['host_neighbourhood'], axis = 1)\n",
    "hosts['neigh_id'] = hosts_neigh_id\n",
    "hosts.head()"
   ]
  },
  {
   "cell_type": "markdown",
   "metadata": {},
   "source": [
    "### changing host_about by removing \\n from string"
   ]
  },
  {
   "cell_type": "code",
   "execution_count": 253,
   "metadata": {},
   "outputs": [
    {
     "data": {
      "text/html": [
       "<div>\n",
       "<style scoped>\n",
       "    .dataframe tbody tr th:only-of-type {\n",
       "        vertical-align: middle;\n",
       "    }\n",
       "\n",
       "    .dataframe tbody tr th {\n",
       "        vertical-align: top;\n",
       "    }\n",
       "\n",
       "    .dataframe thead th {\n",
       "        text-align: right;\n",
       "    }\n",
       "</style>\n",
       "<table border=\"1\" class=\"dataframe\">\n",
       "  <thead>\n",
       "    <tr style=\"text-align: right;\">\n",
       "      <th></th>\n",
       "      <th>host_url</th>\n",
       "      <th>host_name</th>\n",
       "      <th>host_since</th>\n",
       "      <th>host_thumbnail_url</th>\n",
       "      <th>host_picture_url</th>\n",
       "      <th>host_response_rate</th>\n",
       "      <th>host_response_time_id</th>\n",
       "      <th>neigh_id</th>\n",
       "      <th>host_about</th>\n",
       "    </tr>\n",
       "    <tr>\n",
       "      <th>host_id</th>\n",
       "      <th></th>\n",
       "      <th></th>\n",
       "      <th></th>\n",
       "      <th></th>\n",
       "      <th></th>\n",
       "      <th></th>\n",
       "      <th></th>\n",
       "      <th></th>\n",
       "      <th></th>\n",
       "    </tr>\n",
       "  </thead>\n",
       "  <tbody>\n",
       "    <tr>\n",
       "      <th>10692949</th>\n",
       "      <td>https://www.airbnb.com/users/show/10692949</td>\n",
       "      <td>Suites &amp; More</td>\n",
       "      <td>2013-12-18</td>\n",
       "      <td>https://a0.muscache.com/im/users/10692949/prof...</td>\n",
       "      <td>https://a0.muscache.com/im/users/10692949/prof...</td>\n",
       "      <td>100</td>\n",
       "      <td>0</td>\n",
       "      <td>154</td>\n",
       "      <td>Like hosts we like to offer what we would like...</td>\n",
       "    </tr>\n",
       "    <tr>\n",
       "      <th>10914898</th>\n",
       "      <td>https://www.airbnb.com/users/show/10914898</td>\n",
       "      <td>Anita</td>\n",
       "      <td>2013-12-30</td>\n",
       "      <td>https://a0.muscache.com/im/pictures/37a4e6f0-6...</td>\n",
       "      <td>https://a0.muscache.com/im/pictures/37a4e6f0-6...</td>\n",
       "      <td>NaN</td>\n",
       "      <td>1</td>\n",
       "      <td>155</td>\n",
       "      <td>NaN</td>\n",
       "    </tr>\n",
       "    <tr>\n",
       "      <th>4314868</th>\n",
       "      <td>https://www.airbnb.com/users/show/4314868</td>\n",
       "      <td>Katharina</td>\n",
       "      <td>2012-12-03</td>\n",
       "      <td>https://a0.muscache.com/im/users/4314868/profi...</td>\n",
       "      <td>https://a0.muscache.com/im/users/4314868/profi...</td>\n",
       "      <td>90</td>\n",
       "      <td>0</td>\n",
       "      <td>156</td>\n",
       "      <td>Ich lebe in Berlin - im schönen Prenzlauer Ber...</td>\n",
       "    </tr>\n",
       "    <tr>\n",
       "      <th>9828152</th>\n",
       "      <td>https://www.airbnb.com/users/show/9828152</td>\n",
       "      <td>Katrin</td>\n",
       "      <td>2013-11-05</td>\n",
       "      <td>https://a0.muscache.com/im/users/9828152/profi...</td>\n",
       "      <td>https://a0.muscache.com/im/users/9828152/profi...</td>\n",
       "      <td>NaN</td>\n",
       "      <td>1</td>\n",
       "      <td>157</td>\n",
       "      <td>Wir sind leidenschaftliche Berliner lieben uns...</td>\n",
       "    </tr>\n",
       "    <tr>\n",
       "      <th>10962834</th>\n",
       "      <td>https://www.airbnb.com/users/show/10962834</td>\n",
       "      <td>Katharina</td>\n",
       "      <td>2014-01-02</td>\n",
       "      <td>https://a0.muscache.com/im/users/10962834/prof...</td>\n",
       "      <td>https://a0.muscache.com/im/users/10962834/prof...</td>\n",
       "      <td>NaN</td>\n",
       "      <td>1</td>\n",
       "      <td>158</td>\n",
       "      <td>NaN</td>\n",
       "    </tr>\n",
       "  </tbody>\n",
       "</table>\n",
       "</div>"
      ],
      "text/plain": [
       "                                            host_url      host_name  \\\n",
       "host_id                                                               \n",
       "10692949  https://www.airbnb.com/users/show/10692949  Suites & More   \n",
       "10914898  https://www.airbnb.com/users/show/10914898          Anita   \n",
       "4314868    https://www.airbnb.com/users/show/4314868      Katharina   \n",
       "9828152    https://www.airbnb.com/users/show/9828152         Katrin   \n",
       "10962834  https://www.airbnb.com/users/show/10962834      Katharina   \n",
       "\n",
       "          host_since                                 host_thumbnail_url  \\\n",
       "host_id                                                                   \n",
       "10692949  2013-12-18  https://a0.muscache.com/im/users/10692949/prof...   \n",
       "10914898  2013-12-30  https://a0.muscache.com/im/pictures/37a4e6f0-6...   \n",
       "4314868   2012-12-03  https://a0.muscache.com/im/users/4314868/profi...   \n",
       "9828152   2013-11-05  https://a0.muscache.com/im/users/9828152/profi...   \n",
       "10962834  2014-01-02  https://a0.muscache.com/im/users/10962834/prof...   \n",
       "\n",
       "                                           host_picture_url  \\\n",
       "host_id                                                       \n",
       "10692949  https://a0.muscache.com/im/users/10692949/prof...   \n",
       "10914898  https://a0.muscache.com/im/pictures/37a4e6f0-6...   \n",
       "4314868   https://a0.muscache.com/im/users/4314868/profi...   \n",
       "9828152   https://a0.muscache.com/im/users/9828152/profi...   \n",
       "10962834  https://a0.muscache.com/im/users/10962834/prof...   \n",
       "\n",
       "         host_response_rate  host_response_time_id  neigh_id  \\\n",
       "host_id                                                        \n",
       "10692949                100                      0       154   \n",
       "10914898                NaN                      1       155   \n",
       "4314868                  90                      0       156   \n",
       "9828152                 NaN                      1       157   \n",
       "10962834                NaN                      1       158   \n",
       "\n",
       "                                                 host_about  \n",
       "host_id                                                      \n",
       "10692949  Like hosts we like to offer what we would like...  \n",
       "10914898                                                NaN  \n",
       "4314868   Ich lebe in Berlin - im schönen Prenzlauer Ber...  \n",
       "9828152   Wir sind leidenschaftliche Berliner lieben uns...  \n",
       "10962834                                                NaN  "
      ]
     },
     "execution_count": 253,
     "metadata": {},
     "output_type": "execute_result"
    }
   ],
   "source": [
    "host_about = hosts['host_about'].str.replace('\\n', '').str.replace(',','')\n",
    "hosts = hosts.drop(['host_about'], axis = 1)\n",
    "hosts['host_about'] = host_about\n",
    "hosts = hosts.rename({'host_response_time' : 'host_response_time_id'})\n",
    "hosts.head()"
   ]
  },
  {
   "cell_type": "code",
   "execution_count": 254,
   "metadata": {
    "collapsed": true
   },
   "outputs": [],
   "source": [
    "hosts.to_csv('hosts.csv', encoding = 'utf-8')"
   ]
  },
  {
   "cell_type": "code",
   "execution_count": 250,
   "metadata": {
    "collapsed": true
   },
   "outputs": [],
   "source": [
    "hosts['host_response_rate'].astype('float64');"
   ]
  },
  {
   "cell_type": "code",
   "execution_count": null,
   "metadata": {
    "collapsed": true
   },
   "outputs": [],
   "source": []
  },
  {
   "cell_type": "code",
   "execution_count": null,
   "metadata": {
    "collapsed": true
   },
   "outputs": [],
   "source": []
  }
 ],
 "metadata": {
  "kernelspec": {
   "display_name": "Python 3",
   "language": "python",
   "name": "python3"
  },
  "language_info": {
   "codemirror_mode": {
    "name": "ipython",
    "version": 3
   },
   "file_extension": ".py",
   "mimetype": "text/x-python",
   "name": "python",
   "nbconvert_exporter": "python",
   "pygments_lexer": "ipython3",
   "version": "3.5.3"
  }
 },
 "nbformat": 4,
 "nbformat_minor": 2
}
